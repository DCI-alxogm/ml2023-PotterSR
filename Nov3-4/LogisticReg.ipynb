{
  "nbformat": 4,
  "nbformat_minor": 0,
  "metadata": {
    "colab": {
      "provenance": [],
      "include_colab_link": true
    },
    "kernelspec": {
      "name": "python3",
      "display_name": "Python 3"
    },
    "language_info": {
      "name": "python"
    }
  },
  "cells": [
    {
      "cell_type": "markdown",
      "metadata": {
        "id": "view-in-github",
        "colab_type": "text"
      },
      "source": [
        "<a href=\"https://colab.research.google.com/github/DCI-alxogm/ml2023-PotterSR/blob/main/Nov3-4/LogisticReg.ipynb\" target=\"_parent\"><img src=\"https://colab.research.google.com/assets/colab-badge.svg\" alt=\"Open In Colab\"/></a>"
      ]
    },
    {
      "cell_type": "code",
      "execution_count": null,
      "metadata": {
        "id": "mwu6BNQSLE-Y"
      },
      "outputs": [],
      "source": [
        "import glob\n",
        "import numpy as np\n",
        "import copy\n",
        "import matplotlib.pyplot as plt\n",
        "import h5py\n",
        "import scipy\n",
        "from PIL import Image\n",
        "from scipy import ndimage\n",
        "\n",
        "%matplotlib inline"
      ]
    },
    {
      "cell_type": "code",
      "source": [
        "from google.colab import drive\n",
        "drive.mount('/content/drive')"
      ],
      "metadata": {
        "colab": {
          "base_uri": "https://localhost:8080/"
        },
        "id": "R66ecBcvGPWQ",
        "outputId": "d2a6f1eb-b95e-4920-9080-7f2f94e13210"
      },
      "execution_count": null,
      "outputs": [
        {
          "output_type": "stream",
          "name": "stdout",
          "text": [
            "Drive already mounted at /content/drive; to attempt to forcibly remount, call drive.mount(\"/content/drive\", force_remount=True).\n"
          ]
        }
      ]
    },
    {
      "cell_type": "markdown",
      "source": [
        "Cargamos los datos que vamos a trabajar."
      ],
      "metadata": {
        "id": "8x0MULc5TteW"
      }
    },
    {
      "cell_type": "code",
      "source": [
        "#Los datos corresponden a un subset del dataset cats vs dogs de https://www.kaggle.com/c/dogs-vs-cats\n",
        "files1=glob.glob('/content/drive/MyDrive/Data/CATS_DOGS/*')"
      ],
      "metadata": {
        "id": "pKNUwdrHL1HZ"
      },
      "execution_count": null,
      "outputs": []
    },
    {
      "cell_type": "code",
      "source": [
        "len(files1)"
      ],
      "metadata": {
        "colab": {
          "base_uri": "https://localhost:8080/"
        },
        "id": "8srYji0kUSfN",
        "outputId": "b41e4889-fe84-417d-f6a2-1ffad9084c9a"
      },
      "execution_count": null,
      "outputs": [
        {
          "output_type": "execute_result",
          "data": {
            "text/plain": [
              "1787"
            ]
          },
          "metadata": {},
          "execution_count": 164
        }
      ]
    },
    {
      "cell_type": "code",
      "source": [
        "import random\n",
        "\n",
        "files = random.sample(files1, len(files1))"
      ],
      "metadata": {
        "id": "wj_4vKcfyZc9"
      },
      "execution_count": null,
      "outputs": []
    },
    {
      "cell_type": "code",
      "source": [
        "#numero de pixeles para nuestras imágenes.\n",
        "num_px=64"
      ],
      "metadata": {
        "id": "1eGEJ3jVL49a"
      },
      "execution_count": null,
      "outputs": []
    },
    {
      "cell_type": "markdown",
      "source": [
        "Veamos algunas de las imagenes"
      ],
      "metadata": {
        "id": "feEz9FsvP_u5"
      }
    },
    {
      "cell_type": "markdown",
      "source": [
        "Preparamos el dataset de entrenamiento."
      ],
      "metadata": {
        "id": "f8WXRwMML-7s"
      }
    },
    {
      "cell_type": "code",
      "source": [
        "train_x=[]\n",
        "train_y=[]\n",
        "for file in files[:600]:\n",
        "    img=Image.open(file)\n",
        "    img=img.resize((num_px,num_px))\n",
        "    data=np.asarray(img)\n",
        "    train_x.append(data)\n",
        "    img.close()\n",
        "    if 'dog' in file:\n",
        "        train_y.append(1)\n",
        "    if 'cat' in file:\n",
        "        train_y.append(0)\n",
        "train_y=np.asarray(train_y)\n",
        "train_x=np.asarray(train_x)"
      ],
      "metadata": {
        "id": "lV-d7cPfL2Vf"
      },
      "execution_count": null,
      "outputs": []
    },
    {
      "cell_type": "code",
      "source": [
        "plt.imshow(train_x[0])\n"
      ],
      "metadata": {
        "colab": {
          "base_uri": "https://localhost:8080/",
          "height": 449
        },
        "id": "QJdKqlorQUpa",
        "outputId": "74266a00-d281-4e66-a8c4-78e5950bf4de"
      },
      "execution_count": null,
      "outputs": [
        {
          "output_type": "execute_result",
          "data": {
            "text/plain": [
              "<matplotlib.image.AxesImage at 0x7b9229cf8610>"
            ]
          },
          "metadata": {},
          "execution_count": 168
        },
        {
          "output_type": "display_data",
          "data": {
            "text/plain": [
              "<Figure size 640x480 with 1 Axes>"
            ],
            "image/png": "[encoded data removed]"
          },
          "metadata": {}
        }
      ]
    },
    {
      "cell_type": "markdown",
      "source": [
        "Preparamos el dataset de prueba"
      ],
      "metadata": {
        "id": "5Ac-PMrAMHJy"
      }
    },
    {
      "cell_type": "code",
      "source": [
        "test_x=[]\n",
        "test_y=[]\n",
        "for file in files[600:]:\n",
        "    #print(file)\n",
        "    img=Image.open(file)\n",
        "    img=img.resize((num_px,num_px))\n",
        "    data=np.asarray(img)\n",
        "    test_x.append(data)\n",
        "    img.close()\n",
        "    if 'dog' in file:\n",
        "        test_y.append(1)\n",
        "    if 'cat' in file:\n",
        "        test_y.append(0)\n",
        "test_y=np.asarray(test_y)\n",
        "test_x=np.asarray(test_x)"
      ],
      "metadata": {
        "id": "IEtmschUL8kK"
      },
      "execution_count": null,
      "outputs": []
    },
    {
      "cell_type": "code",
      "source": [
        "plt.imshow(test_x[0])"
      ],
      "metadata": {
        "colab": {
          "base_uri": "https://localhost:8080/",
          "height": 449
        },
        "id": "l9bh3jcTM4ui",
        "outputId": "1f848193-8b60-4e02-8b84-0a0ca3040415"
      },
      "execution_count": null,
      "outputs": [
        {
          "output_type": "execute_result",
          "data": {
            "text/plain": [
              "<matplotlib.image.AxesImage at 0x7b92298b4760>"
            ]
          },
          "metadata": {},
          "execution_count": 170
        },
        {
          "output_type": "display_data",
          "data": {
            "text/plain": [
              "<Figure size 640x480 with 1 Axes>"
            ],
            "image/png": "[encoded data removed]"
          },
          "metadata": {}
        }
      ]
    },
    {
      "cell_type": "markdown",
      "source": [
        "Hacemos una transformación de los arreglos que contienen las imagenes para que sean arreglos de una dimensión."
      ],
      "metadata": {
        "id": "JTrOe-91RjgN"
      }
    },
    {
      "cell_type": "code",
      "source": [
        "train_x_flatten = train_x.reshape(train_x.shape[0], -1).T\n",
        "\n",
        "test_x_flatten = test_x.reshape(test_x.shape[0], -1).T\n",
        "\n",
        "train_set_y=train_y.reshape((1,train_y.shape[0]))\n",
        "test_set_y=test_y.reshape((1,test_y.shape[0]))"
      ],
      "metadata": {
        "id": "vPiJd5HVMIWF"
      },
      "execution_count": null,
      "outputs": []
    },
    {
      "cell_type": "markdown",
      "source": [
        "Normalizamos las imágenes"
      ],
      "metadata": {
        "id": "XnFBW_i3RwVy"
      }
    },
    {
      "cell_type": "code",
      "source": [
        "train_set_x= train_x_flatten/255\n",
        "test_set_x= test_x_flatten/255"
      ],
      "metadata": {
        "id": "LOEUc9g1Rt2v"
      },
      "execution_count": null,
      "outputs": []
    },
    {
      "cell_type": "code",
      "source": [
        "train_set_x.shape"
      ],
      "metadata": {
        "colab": {
          "base_uri": "https://localhost:8080/"
        },
        "id": "DXOLDqtjM8Zy",
        "outputId": "986d7b91-48ba-44e5-9d85-450d3e1843f7"
      },
      "execution_count": null,
      "outputs": [
        {
          "output_type": "execute_result",
          "data": {
            "text/plain": [
              "(12288, 600)"
            ]
          },
          "metadata": {},
          "execution_count": 173
        }
      ]
    },
    {
      "cell_type": "markdown",
      "source": [
        "Ya esta listo nuestro set de datos para poder trabajar con el."
      ],
      "metadata": {
        "id": "aNl0jG5KR5P5"
      }
    },
    {
      "cell_type": "code",
      "source": [
        "def sigmoid(z):\n",
        "  sig = 1/(np.exp(-z)+1)\n",
        "\n",
        "  return sig\n",
        "\n",
        "def cost_log(y, y_hat):\n",
        "  y = np.squeeze(y)\n",
        "  cost = -1/len(y)*(np.sum(y*np.log(y_hat) + (1-y)*np.log(1-y_hat)))\n",
        "\n",
        "  return cost"
      ],
      "metadata": {
        "id": "t2b5td_Y39bS"
      },
      "execution_count": null,
      "outputs": []
    },
    {
      "cell_type": "code",
      "source": [
        "def gradient_descent(x_train, y_train, n_iter, stepsize=.1):\n",
        "\n",
        "  y_train = np.squeeze(y_train)\n",
        "\n",
        "  costs = []\n",
        "  w = np.zeros(x_train.shape[0])\n",
        "  b = np.zeros(x_train.shape[1])\n",
        "\n",
        "\n",
        "  z = w@x_train + b\n",
        "  y_hat = sigmoid(z)\n",
        "\n",
        "  costs.append(cost_log(y_train, y_hat))\n",
        "\n",
        "  for i in range(n_iter):\n",
        "\n",
        "    #print((y_hat - np.squeeze(y_train)).shape, x_train.shape)\n",
        "    dw = 1/(x_train.shape[1])*x_train@(y_hat - y_train)\n",
        "    db = 1/(x_train.shape[1])*(y_hat - y_train)\n",
        "    #Algoritmo Descenso\n",
        "    w = w - stepsize*dw\n",
        "    b = b - stepsize*db\n",
        "\n",
        "    #print(w.shape)\n",
        "\n",
        "    z = w@x_train + b\n",
        "    y_hat = sigmoid(z)\n",
        "\n",
        "    #print(w.shape)\n",
        "    cost = cost_log(y_train, y_hat)\n",
        "    costs.append(cost)\n",
        "\n",
        "    if (i%1000 == 0):\n",
        "      print('Stepsize: {} | Cost: {:}'.format(i, cost))\n",
        "\n",
        "\n",
        "  return costs, w, b\n",
        "\n",
        "\n",
        "def neuron(x_train, y_train, x_test=0, y_test=0):\n",
        "\n",
        "  pass\n",
        "  #Gradient Descent"
      ],
      "metadata": {
        "id": "UjDgWGDyzMtO"
      },
      "execution_count": null,
      "outputs": []
    },
    {
      "cell_type": "code",
      "source": [
        "costos, w, b = gradient_descent(train_set_x, train_set_y, 1000, stepsize=.001)"
      ],
      "metadata": {
        "id": "dTytXC7X1odq",
        "colab": {
          "base_uri": "https://localhost:8080/"
        },
        "outputId": "f60f4eb5-b534-4b8f-e42d-4a20d39e5e96"
      },
      "execution_count": null,
      "outputs": [
        {
          "output_type": "stream",
          "name": "stdout",
          "text": [
            "Stepsize: 0 | Cost: 0.6880732709986507\n"
          ]
        }
      ]
    },
    {
      "cell_type": "code",
      "source": [
        "print(w.shape, test_set_x.shape)"
      ],
      "metadata": {
        "colab": {
          "base_uri": "https://localhost:8080/"
        },
        "id": "YjAlMD4dc14u",
        "outputId": "93d4fed1-4391-4c54-eb49-ef4c5690195a"
      },
      "execution_count": null,
      "outputs": [
        {
          "output_type": "stream",
          "name": "stdout",
          "text": [
            "(12288,) (12288, 1187)\n"
          ]
        }
      ]
    },
    {
      "cell_type": "code",
      "source": [
        "plt.plot(costos)"
      ],
      "metadata": {
        "colab": {
          "base_uri": "https://localhost:8080/",
          "height": 447
        },
        "id": "l3uqWTkgNkTN",
        "outputId": "bd165862-1cd3-4083-d068-e0d070cb7d00"
      },
      "execution_count": null,
      "outputs": [
        {
          "output_type": "execute_result",
          "data": {
            "text/plain": [
              "[<matplotlib.lines.Line2D at 0x7b92649e8850>]"
            ]
          },
          "metadata": {},
          "execution_count": 277
        },
        {
          "output_type": "display_data",
          "data": {
            "text/plain": [
              "<Figure size 640x480 with 1 Axes>"
            ],
            "image/png": "[encoded data removed]"
          },
          "metadata": {}
        }
      ]
    },
    {
      "cell_type": "code",
      "source": [
        "z = w@train_set_x + b\n",
        "\n",
        "predictions = sigmoid(z)\n",
        "\n",
        "predictions[predictions > .5] = 1\n",
        "predictions[predictions < .5] = 0\n",
        "\n",
        "\n",
        "predictions = predictions[(predictions == np.squeeze(train_set_y))]\n",
        "\n",
        "print('Accuracy in the data_train: {} '.format(predictions.shape[0]/600*100))\n",
        "\n",
        "z = w@test_set_x\n",
        "\n",
        "predictions = sigmoid(z)\n",
        "\n",
        "predictions[predictions > .5] = 1\n",
        "predictions[predictions < .5] = 0\n",
        "\n",
        "predictions = predictions[(predictions == np.squeeze(train_set_y))]\n",
        "\n",
        "print('Accuracy in the test: {} '.format(predictions.shape[0]/600*100))\n",
        "\n"
      ],
      "metadata": {
        "colab": {
          "base_uri": "https://localhost:8080/"
        },
        "id": "WrEOtJz8YUnT",
        "outputId": "2d866578-1bd9-48a6-e362-6d351ae44375"
      },
      "execution_count": null,
      "outputs": [
        {
          "output_type": "stream",
          "name": "stdout",
          "text": [
            "Accuracy in the data_train: 74.66666666666667 \n",
            "Accuracy in the test: 0.0 \n"
          ]
        },
        {
          "output_type": "stream",
          "name": "stderr",
          "text": [
            "<ipython-input-313-27d692ba14dc>:20: DeprecationWarning: elementwise comparison failed; this will raise an error in the future.\n",
            "  predictions = predictions[(predictions == np.squeeze(train_set_y))]\n"
          ]
        }
      ]
    },
    {
      "cell_type": "code",
      "source": [],
      "metadata": {
        "id": "1-ZQux1hYfvF"
      },
      "execution_count": null,
      "outputs": []
    }
  ]
}