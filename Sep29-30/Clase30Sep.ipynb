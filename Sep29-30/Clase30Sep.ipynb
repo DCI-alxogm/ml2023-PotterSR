{
  "nbformat": 4,
  "nbformat_minor": 0,
  "metadata": {
    "colab": {
      "provenance": [],
      "mount_file_id": "1QlysHhKz_vbc7fyrV6wksE3jr_e6VESd",
      "authorship_tag": "ABX9TyMsoEdXcdYmch7y670bJjHp",
      "include_colab_link": true
    },
    "kernelspec": {
      "name": "python3",
      "display_name": "Python 3"
    },
    "language_info": {
      "name": "python"
    }
  },
  "cells": [
    {
      "cell_type": "markdown",
      "metadata": {
        "id": "view-in-github",
        "colab_type": "text"
      },
      "source": [
        "<a href=\"https://colab.research.google.com/github/DCI-alxogm/ml2023-PotterSR/blob/main/Sep29-30/Clase30Sep.ipynb\" target=\"_parent\"><img src=\"https://colab.research.google.com/assets/colab-badge.svg\" alt=\"Open In Colab\"/></a>"
      ]
    },
    {
      "cell_type": "code",
      "execution_count": 9,
      "metadata": {
        "colab": {
          "base_uri": "https://localhost:8080/"
        },
        "id": "ROWJTKAJqy3y",
        "outputId": "99c83280-5a7e-44c3-9fa7-757d2176eadf"
      },
      "outputs": [
        {
          "output_type": "stream",
          "name": "stdout",
          "text": [
            "Drive already mounted at /content/drive; to attempt to forcibly remount, call drive.mount(\"/content/drive\", force_remount=True).\n"
          ]
        }
      ],
      "source": [
        "import numpy as np\n",
        "import matplotlib.pyplot as plt\n",
        "from google.colab import drive\n",
        "\n",
        "drive.mount('/content/drive')"
      ]
    },
    {
      "cell_type": "markdown",
      "source": [
        "- Primero tenemos que ver si nuestros datos tienene algún error.\n",
        "\n",
        "- Definimos un modelo:\n",
        "Para este caso, usamos un modelo lineal\n",
        "$$ f = w_0 + w_1 x $$\n",
        "\n",
        "Definimos un $\\theta = [w_0, w_1]$.\n",
        "\n",
        "1) Definimos un $\\theta$ inicial.\n",
        "\n",
        "2) Ahora generamos una propuesta $\\theta = [gaussian(\\theta_{min}[0], \\sigma), gaussian(\\theta_{min}[1], \\sigma)]$\n",
        "\n",
        "> Tenemos que generar dos nuevos números para nuestros paramétros, esto con una probabilidad gaussiana centrada en el punto anterior, y con un $\\sigma$ predefinido para ambas.\n",
        "\n",
        "3) Evaluamos los logaritmos.\n",
        "\n",
        "> $\\log(post(\\theta_{ini})), \\quad  \\log(post(\\theta_{prop}))$ \\\\\n",
        "  Si log(post(\\theta_{prop})) $>$ log(post(\\theta_{ini}))\n",
        "  >> Acepto $\\theta_{prop}$ \\\\\n",
        "     Guardo $\\theta_{prop}$ \\\\\n",
        "     $ \\theta_{ini} = \\theta_{prop}$\n",
        "\n",
        "> Else:\n",
        "  >> $p_{test} = Uniform(0,1)$ \\\\\n",
        "     Si $\\log(post(\\theta_{prop})) -$ $log(post(\\theta_{prop}))$ $> log(P_{test}))$ \\\\\n",
        "     >>> Acepto $\\theta_{prop}$ \\\\\n",
        "     Guardo $\\theta_{prop}$ \\\\\n",
        "     $ \\theta_{ini} = \\theta_{prop}$ \\\\\n",
        "\n",
        ">> Else: \\\\\n",
        "  Regresar al paso (2);\n",
        "\n"
      ],
      "metadata": {
        "id": "-fK4vOyVtf1g"
      }
    },
    {
      "cell_type": "code",
      "source": [
        "data = np.loadtxt('/content/drive/MyDrive/Data/olympic100m_men.txt', delimiter = ',').T\n",
        "x = data[0]\n",
        "y = data[1]"
      ],
      "metadata": {
        "id": "2LDKvgeg5xun"
      },
      "execution_count": 19,
      "outputs": []
    },
    {
      "cell_type": "code",
      "source": [
        "def lineal(x, w):\n",
        "  #Las x y w, tienen que ser arrays de numpy\n",
        "  w = np.array(w)\n",
        "  return x@w\n",
        "\n",
        "def Log(y, x, w, model = lineal):\n",
        "\n",
        "  log = (y- model(x, w))**2\n",
        "\n",
        "  log = np.sum(log)\n",
        "  return log\n",
        "\n",
        "def Prior(w, w_inter):\n",
        "\n",
        "    if (w_inter[0][0]< w[0] < w_inter[0][1]) and (w_inter[1][0] < w[1] < w_inter[1][1]):\n",
        "      return 0\n",
        "    else:\n",
        "      return -np.inf\n",
        "\n",
        "    return Pr"
      ],
      "metadata": {
        "id": "AaxU_zs-q9kE"
      },
      "execution_count": 166,
      "outputs": []
    },
    {
      "cell_type": "code",
      "source": [
        "\n",
        "\n",
        "def Monte_Carlo(x, y, w_inter, iter, sigma = 0.1, model = lineal, log = Log):\n",
        "\n",
        "  theta_ini = [0, 0]\n",
        "  w0 = float(input('Give the w0:'))\n",
        "  theta_ini[0] = w0\n",
        "  w1 = float(input('Give the w1:'))\n",
        "  theta_ini[1] = w1\n",
        "\n",
        "\n",
        "  thetas = []\n",
        "\n",
        "  i = 0\n",
        "  while i <= iter:\n",
        "    # Generamos nuestra propuesta\n",
        "    theta_prop = [np.random.normal(theta_ini[0], .5), np.random.normal(theta_ini[1], .01)]\n",
        "\n",
        "    log_ini = Log(y, x, theta_ini) -2*sigma**2 + Prior(theta_ini, w_inter)\n",
        "    log_prop = Log(y, x, theta_prop) -2*sigma**2 + Prior(theta_prop, w_inter)\n",
        "\n",
        "    if log_prop > log_ini:\n",
        "      thetas.append(theta_prop)\n",
        "      theta_ini = theta_prop\n",
        "    else:\n",
        "      ptest = np.random.uniform(0,1)\n",
        "      log_dummy = log_prop - log_ini\n",
        "\n",
        "      if (log_dummy) > np.log(ptest):\n",
        "        thetas.append(theta_prop)\n",
        "        theta_ini = theta_prop\n",
        "      else:\n",
        "        thetas.append(theta_ini)\n",
        "\n",
        "    i += 1\n",
        "\n",
        "\n",
        "  return np.array(thetas)"
      ],
      "metadata": {
        "id": "VBDCCwNO2QnH"
      },
      "execution_count": 173,
      "outputs": []
    },
    {
      "cell_type": "code",
      "source": [
        "\n",
        "\n",
        "X = np.vstack((np.ones_like(x), x)).T\n",
        "X"
      ],
      "metadata": {
        "colab": {
          "base_uri": "https://localhost:8080/"
        },
        "id": "pZr5PuzRJKao",
        "outputId": "10642496-e374-45bc-908c-f03f974c47c7"
      },
      "execution_count": 155,
      "outputs": [
        {
          "output_type": "execute_result",
          "data": {
            "text/plain": [
              "array([[1.000e+00, 1.896e+03],\n",
              "       [1.000e+00, 1.900e+03],\n",
              "       [1.000e+00, 1.904e+03],\n",
              "       [1.000e+00, 1.906e+03],\n",
              "       [1.000e+00, 1.908e+03],\n",
              "       [1.000e+00, 1.912e+03],\n",
              "       [1.000e+00, 1.920e+03],\n",
              "       [1.000e+00, 1.924e+03],\n",
              "       [1.000e+00, 1.928e+03],\n",
              "       [1.000e+00, 1.932e+03],\n",
              "       [1.000e+00, 1.936e+03],\n",
              "       [1.000e+00, 1.948e+03],\n",
              "       [1.000e+00, 1.952e+03],\n",
              "       [1.000e+00, 1.956e+03],\n",
              "       [1.000e+00, 1.960e+03],\n",
              "       [1.000e+00, 1.964e+03],\n",
              "       [1.000e+00, 1.968e+03],\n",
              "       [1.000e+00, 1.972e+03],\n",
              "       [1.000e+00, 1.976e+03],\n",
              "       [1.000e+00, 1.980e+03],\n",
              "       [1.000e+00, 1.984e+03],\n",
              "       [1.000e+00, 1.988e+03],\n",
              "       [1.000e+00, 1.992e+03],\n",
              "       [1.000e+00, 1.996e+03],\n",
              "       [1.000e+00, 2.000e+03],\n",
              "       [1.000e+00, 2.004e+03],\n",
              "       [1.000e+00, 2.008e+03]])"
            ]
          },
          "metadata": {},
          "execution_count": 155
        }
      ]
    },
    {
      "cell_type": "code",
      "source": [
        "w0_inter = [20, 50]\n",
        "w1_inter = [-1, 1]\n",
        "\n",
        "w_inter = [w0_inter, w1_inter]\n",
        "\n",
        "Chain = Monte_Carlo(X, y, w_inter, iter = 100000, sigma=.1)\n",
        "\n",
        "plt.scatter(Chain[:,0], Chain[:,1])\n",
        "\n",
        "#Chain"
      ],
      "metadata": {
        "colab": {
          "base_uri": "https://localhost:8080/",
          "height": 482
        },
        "id": "50LO37cN-LDd",
        "outputId": "4cd2043f-2e36-4739-ae8d-8ef8a4f9c3cc"
      },
      "execution_count": 174,
      "outputs": [
        {
          "name": "stdout",
          "output_type": "stream",
          "text": [
            "Give the w0:25\n",
            "Give the w1:.1\n"
          ]
        },
        {
          "output_type": "execute_result",
          "data": {
            "text/plain": [
              "<matplotlib.collections.PathCollection at 0x7eb882151a50>"
            ]
          },
          "metadata": {},
          "execution_count": 174
        },
        {
          "output_type": "display_data",
          "data": {
            "text/plain": [
              "<Figure size 640x480 with 1 Axes>"
            ],
            "image/png": "[encoded data removed]"
          },
          "metadata": {}
        }
      ]
    },
    {
      "cell_type": "code",
      "source": [
        "Chain[:,0]"
      ],
      "metadata": {
        "colab": {
          "base_uri": "https://localhost:8080/"
        },
        "id": "KR1u0r6iLVv6",
        "outputId": "8c586103-2e52-4be5-9bb9-2903daa3dc97"
      },
      "execution_count": 160,
      "outputs": [
        {
          "output_type": "execute_result",
          "data": {
            "text/plain": [
              "array([24.98798266, 24.96077318, 24.96077318, ..., 24.1380018 ,\n",
              "       24.1380018 , 24.1380018 ])"
            ]
          },
          "metadata": {},
          "execution_count": 160
        }
      ]
    },
    {
      "cell_type": "code",
      "source": [
        "plt.hist(w1s, bins = 100, range=(-1,1));"
      ],
      "metadata": {
        "colab": {
          "base_uri": "https://localhost:8080/",
          "height": 430
        },
        "id": "H1cuViki-7-o",
        "outputId": "ec2c423a-287d-48a8-dbaf-8acee9e43942"
      },
      "execution_count": 153,
      "outputs": [
        {
          "output_type": "display_data",
          "data": {
            "text/plain": [
              "<Figure size 640x480 with 1 Axes>"
            ],
            "image/png": "[encoded data removed]"
          },
          "metadata": {}
        }
      ]
    },
    {
      "cell_type": "code",
      "source": [
        "lineal(X, [36.41, -0.0133])"
      ],
      "metadata": {
        "colab": {
          "base_uri": "https://localhost:8080/"
        },
        "id": "B1Fha6MqGf9H",
        "outputId": "794e8b52-df5b-4837-bb68-2efffc74000e"
      },
      "execution_count": 122,
      "outputs": [
        {
          "output_type": "execute_result",
          "data": {
            "text/plain": [
              "array([11.1932, 11.14  , 11.0868, 11.0602, 11.0336, 10.9804, 10.874 ,\n",
              "       10.8208, 10.7676, 10.7144, 10.6612, 10.5016, 10.4484, 10.3952,\n",
              "       10.342 , 10.2888, 10.2356, 10.1824, 10.1292, 10.076 , 10.0228,\n",
              "        9.9696,  9.9164,  9.8632,  9.81  ,  9.7568,  9.7036])"
            ]
          },
          "metadata": {},
          "execution_count": 122
        }
      ]
    }
  ]
}