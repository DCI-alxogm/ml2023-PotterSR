{
 "cells": [
  {
   "cell_type": "markdown",
   "metadata": {},
   "source": [
    "# Función de Costo\n",
    "\n",
    "L = Función de Costo (Perdida) \n",
    "\n",
    "$t = \\text{Predictor}$\n",
    "\n",
    "$b, m = w_0, w_1$ \n",
    "\n",
    "\n",
    "$$ L = \\frac{1}{N} \\sum_{i} L_{i}\\left( t_{i}, f_i(x_i; w_0, w_1) \\right)  = \\frac{1}{N}  \\sum_{i} L_{i}(t_i, w_0 + w_1 x_i)$$\n",
    "\n",
    "$$  \\hat{w_0}  = \\bar{t} - \\hat{w_1} \\bar{x}$$\n",
    "\n",
    "$$  \\hat{w_1} = \\frac{\\bar{xt} - \\bar{x} \\bar{t}}{\\bar{x²} - \\bar{x}²}$$\n",
    "\n",
    "$$ \\text{argmin} L(W, w_1)$$"
   ]
  },
  {
   "cell_type": "code",
   "execution_count": null,
   "metadata": {},
   "outputs": [],
   "source": []
  }
 ],
 "metadata": {
  "language_info": {
   "name": "python"
  },
  "orig_nbformat": 4
 },
 "nbformat": 4,
 "nbformat_minor": 2
}
