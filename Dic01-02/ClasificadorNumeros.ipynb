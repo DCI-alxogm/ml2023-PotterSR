{
  "nbformat": 4,
  "nbformat_minor": 0,
  "metadata": {
    "colab": {
      "provenance": [],
      "gpuType": "T4",
      "mount_file_id": "15OJncEEZlhRQSpw2VQEcU8u0cFLbW1Wy",
      "authorship_tag": "ABX9TyM+/VpJ1Zq1A25lrerbn0Jy",
      "include_colab_link": true
    },
    "kernelspec": {
      "name": "python3",
      "display_name": "Python 3"
    },
    "language_info": {
      "name": "python"
    },
    "accelerator": "GPU"
  },
  "cells": [
    {
      "cell_type": "markdown",
      "metadata": {
        "id": "view-in-github",
        "colab_type": "text"
      },
      "source": [
        "<a href=\"https://colab.research.google.com/github/DCI-alxogm/ml2023-PotterSR/blob/main/Dic01-02/ClasificadorNumeros.ipynb\" target=\"_parent\"><img src=\"https://colab.research.google.com/assets/colab-badge.svg\" alt=\"Open In Colab\"/></a>"
      ]
    },
    {
      "cell_type": "code",
      "execution_count": 12,
      "metadata": {
        "id": "_BBlOynpisGo"
      },
      "outputs": [],
      "source": [
        "import pandas as pd\n",
        "import numpy as np\n",
        "import matplotlib.pyplot as plt"
      ]
    },
    {
      "cell_type": "code",
      "source": [
        "data = pd.read_csv('/content/drive/MyDrive/Data/DigitRecognition/train.csv')\n",
        "\n",
        "data.head()"
      ],
      "metadata": {
        "id": "aIi7jvMCmGlx",
        "colab": {
          "base_uri": "https://localhost:8080/",
          "height": 255
        },
        "outputId": "b4ed2261-bd79-4f99-833a-c43bc5dd6e1e"
      },
      "execution_count": 11,
      "outputs": [
        {
          "output_type": "execute_result",
          "data": {
            "text/plain": [
              "   label  pixel0  pixel1  pixel2  pixel3  pixel4  pixel5  pixel6  pixel7  \\\n",
              "0      1       0       0       0       0       0       0       0       0   \n",
              "1      0       0       0       0       0       0       0       0       0   \n",
              "2      1       0       0       0       0       0       0       0       0   \n",
              "3      4       0       0       0       0       0       0       0       0   \n",
              "4      0       0       0       0       0       0       0       0       0   \n",
              "\n",
              "   pixel8  ...  pixel774  pixel775  pixel776  pixel777  pixel778  pixel779  \\\n",
              "0       0  ...         0         0         0         0         0         0   \n",
              "1       0  ...         0         0         0         0         0         0   \n",
              "2       0  ...         0         0         0         0         0         0   \n",
              "3       0  ...         0         0         0         0         0         0   \n",
              "4       0  ...         0         0         0         0         0         0   \n",
              "\n",
              "   pixel780  pixel781  pixel782  pixel783  \n",
              "0         0         0         0         0  \n",
              "1         0         0         0         0  \n",
              "2         0         0         0         0  \n",
              "3         0         0         0         0  \n",
              "4         0         0         0         0  \n",
              "\n",
              "[5 rows x 785 columns]"
            ],
            "text/html": [
              "\n",
              "  <div id=\"df-72b88730-bc41-4ebf-bfa1-83e678509c1d\" class=\"colab-df-container\">\n",
              "    <div>\n",
              "<style scoped>\n",
              "    .dataframe tbody tr th:only-of-type {\n",
              "        vertical-align: middle;\n",
              "    }\n",
              "\n",
              "    .dataframe tbody tr th {\n",
              "        vertical-align: top;\n",
              "    }\n",
              "\n",
              "    .dataframe thead th {\n",
              "        text-align: right;\n",
              "    }\n",
              "</style>\n",
              "<table border=\"1\" class=\"dataframe\">\n",
              "  <thead>\n",
              "    <tr style=\"text-align: right;\">\n",
              "      <th></th>\n",
              "      <th>label</th>\n",
              "      <th>pixel0</th>\n",
              "      <th>pixel1</th>\n",
              "      <th>pixel2</th>\n",
              "      <th>pixel3</th>\n",
              "      <th>pixel4</th>\n",
              "      <th>pixel5</th>\n",
              "      <th>pixel6</th>\n",
              "      <th>pixel7</th>\n",
              "      <th>pixel8</th>\n",
              "      <th>...</th>\n",
              "      <th>pixel774</th>\n",
              "      <th>pixel775</th>\n",
              "      <th>pixel776</th>\n",
              "      <th>pixel777</th>\n",
              "      <th>pixel778</th>\n",
              "      <th>pixel779</th>\n",
              "      <th>pixel780</th>\n",
              "      <th>pixel781</th>\n",
              "      <th>pixel782</th>\n",
              "      <th>pixel783</th>\n",
              "    </tr>\n",
              "  </thead>\n",
              "  <tbody>\n",
              "    <tr>\n",
              "      <th>0</th>\n",
              "      <td>1</td>\n",
              "      <td>0</td>\n",
              "      <td>0</td>\n",
              "      <td>0</td>\n",
              "      <td>0</td>\n",
              "      <td>0</td>\n",
              "      <td>0</td>\n",
              "      <td>0</td>\n",
              "      <td>0</td>\n",
              "      <td>0</td>\n",
              "      <td>...</td>\n",
              "      <td>0</td>\n",
              "      <td>0</td>\n",
              "      <td>0</td>\n",
              "      <td>0</td>\n",
              "      <td>0</td>\n",
              "      <td>0</td>\n",
              "      <td>0</td>\n",
              "      <td>0</td>\n",
              "      <td>0</td>\n",
              "      <td>0</td>\n",
              "    </tr>\n",
              "    <tr>\n",
              "      <th>1</th>\n",
              "      <td>0</td>\n",
              "      <td>0</td>\n",
              "      <td>0</td>\n",
              "      <td>0</td>\n",
              "      <td>0</td>\n",
              "      <td>0</td>\n",
              "      <td>0</td>\n",
              "      <td>0</td>\n",
              "      <td>0</td>\n",
              "      <td>0</td>\n",
              "      <td>...</td>\n",
              "      <td>0</td>\n",
              "      <td>0</td>\n",
              "      <td>0</td>\n",
              "      <td>0</td>\n",
              "      <td>0</td>\n",
              "      <td>0</td>\n",
              "      <td>0</td>\n",
              "      <td>0</td>\n",
              "      <td>0</td>\n",
              "      <td>0</td>\n",
              "    </tr>\n",
              "    <tr>\n",
              "      <th>2</th>\n",
              "      <td>1</td>\n",
              "      <td>0</td>\n",
              "      <td>0</td>\n",
              "      <td>0</td>\n",
              "      <td>0</td>\n",
              "      <td>0</td>\n",
              "      <td>0</td>\n",
              "      <td>0</td>\n",
              "      <td>0</td>\n",
              "      <td>0</td>\n",
              "      <td>...</td>\n",
              "      <td>0</td>\n",
              "      <td>0</td>\n",
              "      <td>0</td>\n",
              "      <td>0</td>\n",
              "      <td>0</td>\n",
              "      <td>0</td>\n",
              "      <td>0</td>\n",
              "      <td>0</td>\n",
              "      <td>0</td>\n",
              "      <td>0</td>\n",
              "    </tr>\n",
              "    <tr>\n",
              "      <th>3</th>\n",
              "      <td>4</td>\n",
              "      <td>0</td>\n",
              "      <td>0</td>\n",
              "      <td>0</td>\n",
              "      <td>0</td>\n",
              "      <td>0</td>\n",
              "      <td>0</td>\n",
              "      <td>0</td>\n",
              "      <td>0</td>\n",
              "      <td>0</td>\n",
              "      <td>...</td>\n",
              "      <td>0</td>\n",
              "      <td>0</td>\n",
              "      <td>0</td>\n",
              "      <td>0</td>\n",
              "      <td>0</td>\n",
              "      <td>0</td>\n",
              "      <td>0</td>\n",
              "      <td>0</td>\n",
              "      <td>0</td>\n",
              "      <td>0</td>\n",
              "    </tr>\n",
              "    <tr>\n",
              "      <th>4</th>\n",
              "      <td>0</td>\n",
              "      <td>0</td>\n",
              "      <td>0</td>\n",
              "      <td>0</td>\n",
              "      <td>0</td>\n",
              "      <td>0</td>\n",
              "      <td>0</td>\n",
              "      <td>0</td>\n",
              "      <td>0</td>\n",
              "      <td>0</td>\n",
              "      <td>...</td>\n",
              "      <td>0</td>\n",
              "      <td>0</td>\n",
              "      <td>0</td>\n",
              "      <td>0</td>\n",
              "      <td>0</td>\n",
              "      <td>0</td>\n",
              "      <td>0</td>\n",
              "      <td>0</td>\n",
              "      <td>0</td>\n",
              "      <td>0</td>\n",
              "    </tr>\n",
              "  </tbody>\n",
              "</table>\n",
              "<p>5 rows × 785 columns</p>\n",
              "</div>\n",
              "    <div class=\"colab-df-buttons\">\n",
              "\n",
              "  <div class=\"colab-df-container\">\n",
              "    <button class=\"colab-df-convert\" onclick=\"convertToInteractive('df-72b88730-bc41-4ebf-bfa1-83e678509c1d')\"\n",
              "            title=\"Convert this dataframe to an interactive table.\"\n",
              "            style=\"display:none;\">\n",
              "\n",
              "  <svg xmlns=\"http://www.w3.org/2000/svg\" height=\"24px\" viewBox=\"0 -960 960 960\">\n",
              "    <path d=\"M120-120v-720h720v720H120Zm60-500h600v-160H180v160Zm220 220h160v-160H400v160Zm0 220h160v-160H400v160ZM180-400h160v-160H180v160Zm440 0h160v-160H620v160ZM180-180h160v-160H180v160Zm440 0h160v-160H620v160Z\"/>\n",
              "  </svg>\n",
              "    </button>\n",
              "\n",
              "  <style>\n",
              "    .colab-df-container {\n",
              "      display:flex;\n",
              "      gap: 12px;\n",
              "    }\n",
              "\n",
              "    .colab-df-convert {\n",
              "      background-color: #E8F0FE;\n",
              "      border: none;\n",
              "      border-radius: 50%;\n",
              "      cursor: pointer;\n",
              "      display: none;\n",
              "      fill: #1967D2;\n",
              "      height: 32px;\n",
              "      padding: 0 0 0 0;\n",
              "      width: 32px;\n",
              "    }\n",
              "\n",
              "    .colab-df-convert:hover {\n",
              "      background-color: #E2EBFA;\n",
              "      box-shadow: 0px 1px 2px rgba(60, 64, 67, 0.3), 0px 1px 3px 1px rgba(60, 64, 67, 0.15);\n",
              "      fill: #174EA6;\n",
              "    }\n",
              "\n",
              "    .colab-df-buttons div {\n",
              "      margin-bottom: 4px;\n",
              "    }\n",
              "\n",
              "    [theme=dark] .colab-df-convert {\n",
              "      background-color: #3B4455;\n",
              "      fill: #D2E3FC;\n",
              "    }\n",
              "\n",
              "    [theme=dark] .colab-df-convert:hover {\n",
              "      background-color: #434B5C;\n",
              "      box-shadow: 0px 1px 3px 1px rgba(0, 0, 0, 0.15);\n",
              "      filter: drop-shadow(0px 1px 2px rgba(0, 0, 0, 0.3));\n",
              "      fill: #FFFFFF;\n",
              "    }\n",
              "  </style>\n",
              "\n",
              "    <script>\n",
              "      const buttonEl =\n",
              "        document.querySelector('#df-72b88730-bc41-4ebf-bfa1-83e678509c1d button.colab-df-convert');\n",
              "      buttonEl.style.display =\n",
              "        google.colab.kernel.accessAllowed ? 'block' : 'none';\n",
              "\n",
              "      async function convertToInteractive(key) {\n",
              "        const element = document.querySelector('#df-72b88730-bc41-4ebf-bfa1-83e678509c1d');\n",
              "        const dataTable =\n",
              "          await google.colab.kernel.invokeFunction('convertToInteractive',\n",
              "                                                    [key], {});\n",
              "        if (!dataTable) return;\n",
              "\n",
              "        const docLinkHtml = 'Like what you see? Visit the ' +\n",
              "          '<a target=\"_blank\" href=https://colab.research.google.com/notebooks/data_table.ipynb>data table notebook</a>'\n",
              "          + ' to learn more about interactive tables.';\n",
              "        element.innerHTML = '';\n",
              "        dataTable['output_type'] = 'display_data';\n",
              "        await google.colab.output.renderOutput(dataTable, element);\n",
              "        const docLink = document.createElement('div');\n",
              "        docLink.innerHTML = docLinkHtml;\n",
              "        element.appendChild(docLink);\n",
              "      }\n",
              "    </script>\n",
              "  </div>\n",
              "\n",
              "\n",
              "<div id=\"df-95713f78-da16-47b8-8d33-823c803d6a27\">\n",
              "  <button class=\"colab-df-quickchart\" onclick=\"quickchart('df-95713f78-da16-47b8-8d33-823c803d6a27')\"\n",
              "            title=\"Suggest charts\"\n",
              "            style=\"display:none;\">\n",
              "\n",
              "<svg xmlns=\"http://www.w3.org/2000/svg\" height=\"24px\"viewBox=\"0 0 24 24\"\n",
              "     width=\"24px\">\n",
              "    <g>\n",
              "        <path d=\"M19 3H5c-1.1 0-2 .9-2 2v14c0 1.1.9 2 2 2h14c1.1 0 2-.9 2-2V5c0-1.1-.9-2-2-2zM9 17H7v-7h2v7zm4 0h-2V7h2v10zm4 0h-2v-4h2v4z\"/>\n",
              "    </g>\n",
              "</svg>\n",
              "  </button>\n",
              "\n",
              "<style>\n",
              "  .colab-df-quickchart {\n",
              "      --bg-color: #E8F0FE;\n",
              "      --fill-color: #1967D2;\n",
              "      --hover-bg-color: #E2EBFA;\n",
              "      --hover-fill-color: #174EA6;\n",
              "      --disabled-fill-color: #AAA;\n",
              "      --disabled-bg-color: #DDD;\n",
              "  }\n",
              "\n",
              "  [theme=dark] .colab-df-quickchart {\n",
              "      --bg-color: #3B4455;\n",
              "      --fill-color: #D2E3FC;\n",
              "      --hover-bg-color: #434B5C;\n",
              "      --hover-fill-color: #FFFFFF;\n",
              "      --disabled-bg-color: #3B4455;\n",
              "      --disabled-fill-color: #666;\n",
              "  }\n",
              "\n",
              "  .colab-df-quickchart {\n",
              "    background-color: var(--bg-color);\n",
              "    border: none;\n",
              "    border-radius: 50%;\n",
              "    cursor: pointer;\n",
              "    display: none;\n",
              "    fill: var(--fill-color);\n",
              "    height: 32px;\n",
              "    padding: 0;\n",
              "    width: 32px;\n",
              "  }\n",
              "\n",
              "  .colab-df-quickchart:hover {\n",
              "    background-color: var(--hover-bg-color);\n",
              "    box-shadow: 0 1px 2px rgba(60, 64, 67, 0.3), 0 1px 3px 1px rgba(60, 64, 67, 0.15);\n",
              "    fill: var(--button-hover-fill-color);\n",
              "  }\n",
              "\n",
              "  .colab-df-quickchart-complete:disabled,\n",
              "  .colab-df-quickchart-complete:disabled:hover {\n",
              "    background-color: var(--disabled-bg-color);\n",
              "    fill: var(--disabled-fill-color);\n",
              "    box-shadow: none;\n",
              "  }\n",
              "\n",
              "  .colab-df-spinner {\n",
              "    border: 2px solid var(--fill-color);\n",
              "    border-color: transparent;\n",
              "    border-bottom-color: var(--fill-color);\n",
              "    animation:\n",
              "      spin 1s steps(1) infinite;\n",
              "  }\n",
              "\n",
              "  @keyframes spin {\n",
              "    0% {\n",
              "      border-color: transparent;\n",
              "      border-bottom-color: var(--fill-color);\n",
              "      border-left-color: var(--fill-color);\n",
              "    }\n",
              "    20% {\n",
              "      border-color: transparent;\n",
              "      border-left-color: var(--fill-color);\n",
              "      border-top-color: var(--fill-color);\n",
              "    }\n",
              "    30% {\n",
              "      border-color: transparent;\n",
              "      border-left-color: var(--fill-color);\n",
              "      border-top-color: var(--fill-color);\n",
              "      border-right-color: var(--fill-color);\n",
              "    }\n",
              "    40% {\n",
              "      border-color: transparent;\n",
              "      border-right-color: var(--fill-color);\n",
              "      border-top-color: var(--fill-color);\n",
              "    }\n",
              "    60% {\n",
              "      border-color: transparent;\n",
              "      border-right-color: var(--fill-color);\n",
              "    }\n",
              "    80% {\n",
              "      border-color: transparent;\n",
              "      border-right-color: var(--fill-color);\n",
              "      border-bottom-color: var(--fill-color);\n",
              "    }\n",
              "    90% {\n",
              "      border-color: transparent;\n",
              "      border-bottom-color: var(--fill-color);\n",
              "    }\n",
              "  }\n",
              "</style>\n",
              "\n",
              "  <script>\n",
              "    async function quickchart(key) {\n",
              "      const quickchartButtonEl =\n",
              "        document.querySelector('#' + key + ' button');\n",
              "      quickchartButtonEl.disabled = true;  // To prevent multiple clicks.\n",
              "      quickchartButtonEl.classList.add('colab-df-spinner');\n",
              "      try {\n",
              "        const charts = await google.colab.kernel.invokeFunction(\n",
              "            'suggestCharts', [key], {});\n",
              "      } catch (error) {\n",
              "        console.error('Error during call to suggestCharts:', error);\n",
              "      }\n",
              "      quickchartButtonEl.classList.remove('colab-df-spinner');\n",
              "      quickchartButtonEl.classList.add('colab-df-quickchart-complete');\n",
              "    }\n",
              "    (() => {\n",
              "      let quickchartButtonEl =\n",
              "        document.querySelector('#df-95713f78-da16-47b8-8d33-823c803d6a27 button');\n",
              "      quickchartButtonEl.style.display =\n",
              "        google.colab.kernel.accessAllowed ? 'block' : 'none';\n",
              "    })();\n",
              "  </script>\n",
              "</div>\n",
              "    </div>\n",
              "  </div>\n"
            ]
          },
          "metadata": {},
          "execution_count": 11
        }
      ]
    },
    {
      "cell_type": "code",
      "source": [
        "labels = data.label"
      ],
      "metadata": {
        "id": "pE9aeWTYmRSI"
      },
      "execution_count": 13,
      "outputs": []
    },
    {
      "cell_type": "code",
      "source": [
        "images = data.drop(['label'], axis = 1)\n",
        "images = images.to_numpy()"
      ],
      "metadata": {
        "id": "4m2E4KlYmYGm"
      },
      "execution_count": 14,
      "outputs": []
    },
    {
      "cell_type": "code",
      "source": [
        "fig, ax = plt.subplots(ncols=4, nrows=2, figsize = (15, 7), sharey=True)\n",
        "\n",
        "aux = 0\n",
        "\n",
        "for i in range(8):\n",
        "  if i < 4:\n",
        "    image = images[i, :].reshape((28,28))\n",
        "    ax[0][i].imshow(image, cmap = 'gray')\n",
        "    ax[0][i].set_title(labels[i])\n",
        "  else:\n",
        "    image = images[i, :].reshape((28, 28))\n",
        "    ax[1][i-4].imshow(image, cmap = 'gray')\n",
        "    ax[1][i-4].set_title(labels[i])"
      ],
      "metadata": {
        "colab": {
          "base_uri": "https://localhost:8080/",
          "height": 622
        },
        "id": "8qCRwGrpxHaD",
        "outputId": "cc44a9b0-0e22-430b-8d98-fdd06ed36f92"
      },
      "execution_count": 15,
      "outputs": [
        {
          "output_type": "display_data",
          "data": {
            "text/plain": [
              "<Figure size 1500x700 with 8 Axes>"
            ],
            "image/png": "[encoded data removed]"
          },
          "metadata": {}
        }
      ]
    },
    {
      "cell_type": "code",
      "source": [
        "#Vamos a normalizar los datos\n",
        "images = images/255"
      ],
      "metadata": {
        "id": "XIZHmlNPo-TK"
      },
      "execution_count": 16,
      "outputs": []
    },
    {
      "cell_type": "code",
      "source": [
        "from sklearn.model_selection import train_test_split\n",
        "x_train, x_test, y_train, y_test = train_test_split(images,labels, test_size=0.10, random_state=42)"
      ],
      "metadata": {
        "id": "LuqTCUWyzxIQ"
      },
      "execution_count": 17,
      "outputs": []
    },
    {
      "cell_type": "code",
      "source": [
        "def ones(Y):\n",
        "  ones = np.zeros((Y.size, 10))\n",
        "  ones[np.arange(Y.size), Y] = 1\n",
        "\n",
        "  return ones\n",
        "\n",
        "y_train = ones(y_train)\n",
        "y_test = ones(y_test)"
      ],
      "metadata": {
        "id": "hgiv0afo7NaB"
      },
      "execution_count": 18,
      "outputs": []
    },
    {
      "cell_type": "code",
      "source": [
        "import tensorflow as tf\n",
        "from tensorflow.keras.models import Sequential\n",
        "from tensorflow.keras.layers import Dense,Dropout"
      ],
      "metadata": {
        "id": "bfd03EBH1R_d"
      },
      "execution_count": 19,
      "outputs": []
    },
    {
      "cell_type": "code",
      "source": [
        "tf.random.set_seed(1234)  # applied to achieve reproducible results\n",
        "model = Sequential(\n",
        "    [\n",
        "        tf.keras.Input(shape=(x_train.shape[1],)),\n",
        "        Dense(3, activation='relu', name = 'layer1'),\n",
        "        Dense(10, activation='softmax')\n",
        "     ]\n",
        ")"
      ],
      "metadata": {
        "id": "lRxV09m11m1D"
      },
      "execution_count": 163,
      "outputs": []
    },
    {
      "cell_type": "code",
      "source": [
        "model.compile(optimizer='sgd', loss = tf.keras.losses.BinaryCrossentropy(), metrics=['accuracy'])"
      ],
      "metadata": {
        "id": "JcGPEbKN1r33"
      },
      "execution_count": 164,
      "outputs": []
    },
    {
      "cell_type": "code",
      "source": [
        "history = model.fit(x_train, y_train, epochs = 10)"
      ],
      "metadata": {
        "colab": {
          "base_uri": "https://localhost:8080/"
        },
        "id": "Gxif29yU1yHy",
        "outputId": "da536aa9-a6e3-42bb-f3d9-62a958324448"
      },
      "execution_count": 165,
      "outputs": [
        {
          "output_type": "stream",
          "name": "stdout",
          "text": [
            "Epoch 1/10\n",
            "1182/1182 [==============================] - 6s 4ms/step - loss: 0.4469 - accuracy: 0.1014\n",
            "Epoch 2/10\n",
            "1182/1182 [==============================] - 6s 5ms/step - loss: 0.3356 - accuracy: 0.1007\n",
            "Epoch 3/10\n",
            "1182/1182 [==============================] - 4s 4ms/step - loss: 0.3264 - accuracy: 0.1558\n",
            "Epoch 4/10\n",
            "1182/1182 [==============================] - 4s 4ms/step - loss: 0.3176 - accuracy: 0.2072\n",
            "Epoch 5/10\n",
            "1182/1182 [==============================] - 6s 5ms/step - loss: 0.3089 - accuracy: 0.2083\n",
            "Epoch 6/10\n",
            "1182/1182 [==============================] - 5s 4ms/step - loss: 0.2993 - accuracy: 0.2287\n",
            "Epoch 7/10\n",
            "1182/1182 [==============================] - 4s 4ms/step - loss: 0.2871 - accuracy: 0.3199\n",
            "Epoch 8/10\n",
            "1182/1182 [==============================] - 5s 4ms/step - loss: 0.2761 - accuracy: 0.4134\n",
            "Epoch 9/10\n",
            "1182/1182 [==============================] - 6s 5ms/step - loss: 0.2659 - accuracy: 0.4697\n",
            "Epoch 10/10\n",
            "1182/1182 [==============================] - 5s 5ms/step - loss: 0.2566 - accuracy: 0.4965\n"
          ]
        }
      ]
    },
    {
      "cell_type": "code",
      "source": [
        "lost, acc = model.evaluate(x_test, y_test)\n",
        "print(lost, acc)"
      ],
      "metadata": {
        "id": "-a9rImRN4S8F",
        "colab": {
          "base_uri": "https://localhost:8080/"
        },
        "outputId": "b399eec9-f2f3-4b35-c27b-79ac2a77689d"
      },
      "execution_count": 166,
      "outputs": [
        {
          "output_type": "stream",
          "name": "stdout",
          "text": [
            "132/132 [==============================] - 0s 3ms/step - loss: 0.2520 - accuracy: 0.5186\n",
            "0.2519896626472473 0.5185714364051819\n"
          ]
        }
      ]
    },
    {
      "cell_type": "markdown",
      "source": [
        "El costo y el Accuracy para nuestros datos de entrenamiento es muy bajo."
      ],
      "metadata": {
        "id": "Fln9XRnSTsbj"
      }
    },
    {
      "cell_type": "code",
      "source": [
        "plt.plot(history.history['loss'], color = 'black')\n",
        "plt.title('Red Con una Nuerona Densa y 3 Neuronas')\n",
        "plt.xlabel('Epoch')\n",
        "plt.ylabel('Loss')\n",
        "plt.show()"
      ],
      "metadata": {
        "colab": {
          "base_uri": "https://localhost:8080/",
          "height": 472
        },
        "id": "X0qVfXKbC09A",
        "outputId": "00694249-4f53-488d-fb9a-a3162145e9ec"
      },
      "execution_count": 167,
      "outputs": [
        {
          "output_type": "display_data",
          "data": {
            "text/plain": [
              "<Figure size 640x480 with 1 Axes>"
            ],
            "image/png": "[encoded data removed]"
          },
          "metadata": {}
        }
      ]
    },
    {
      "cell_type": "code",
      "source": [
        "tf.random.set_seed(1234)  # applied to achieve reproducible results\n",
        "model1 = Sequential(\n",
        "    [\n",
        "        tf.keras.Input(shape=(x_train.shape[1],)),\n",
        "        Dense(16, activation='relu', name = 'layer1'),\n",
        "        Dense(16,activation='relu', name = 'layer2'),\n",
        "        Dense(10, activation='softmax')\n",
        "     ]\n",
        ")\n",
        "model1.compile(optimizer='sgd', loss = tf.keras.losses.BinaryCrossentropy(), metrics=['accuracy'])\n",
        "\n",
        "history1 = model1.fit(x_train, y_train, epochs = 10)"
      ],
      "metadata": {
        "colab": {
          "base_uri": "https://localhost:8080/"
        },
        "id": "MQWQEtjdD68e",
        "outputId": "073e12d9-b1be-49b2-8104-c3f5bfd5bcfe"
      },
      "execution_count": 171,
      "outputs": [
        {
          "output_type": "stream",
          "name": "stdout",
          "text": [
            "Epoch 1/10\n",
            "1182/1182 [==============================] - 7s 5ms/step - loss: 0.3595 - accuracy: 0.2388\n",
            "Epoch 2/10\n",
            "1182/1182 [==============================] - 5s 4ms/step - loss: 0.2810 - accuracy: 0.4407\n",
            "Epoch 3/10\n",
            "1182/1182 [==============================] - 5s 4ms/step - loss: 0.2380 - accuracy: 0.6206\n",
            "Epoch 4/10\n",
            "1182/1182 [==============================] - 6s 5ms/step - loss: 0.2023 - accuracy: 0.6975\n",
            "Epoch 5/10\n",
            "1182/1182 [==============================] - 5s 4ms/step - loss: 0.1784 - accuracy: 0.7357\n",
            "Epoch 6/10\n",
            "1182/1182 [==============================] - 5s 4ms/step - loss: 0.1622 - accuracy: 0.7597\n",
            "Epoch 7/10\n",
            "1182/1182 [==============================] - 6s 5ms/step - loss: 0.1500 - accuracy: 0.7778\n",
            "Epoch 8/10\n",
            "1182/1182 [==============================] - 5s 4ms/step - loss: 0.1404 - accuracy: 0.7919\n",
            "Epoch 9/10\n",
            "1182/1182 [==============================] - 5s 4ms/step - loss: 0.1324 - accuracy: 0.8044\n",
            "Epoch 10/10\n",
            "1182/1182 [==============================] - 8s 6ms/step - loss: 0.1258 - accuracy: 0.8143\n"
          ]
        }
      ]
    },
    {
      "cell_type": "code",
      "source": [
        "cost, ac = model1.evaluate(x_test, y_test)\n",
        "\n",
        "print('Cost: {}, Accuracy: {}'.format(cost, ac))"
      ],
      "metadata": {
        "colab": {
          "base_uri": "https://localhost:8080/"
        },
        "id": "YwRNMYBoT6sk",
        "outputId": "675eb1c0-f4e8-428c-918b-b839bef1eac7"
      },
      "execution_count": 188,
      "outputs": [
        {
          "output_type": "stream",
          "name": "stdout",
          "text": [
            "132/132 [==============================] - 1s 5ms/step - loss: 0.1178 - accuracy: 0.8264\n",
            "Cost: 0.11778262257575989, Accuracy: 0.8264285922050476\n"
          ]
        }
      ]
    },
    {
      "cell_type": "code",
      "source": [
        "plt.plot(history1.history['loss'], color = 'black')\n",
        "plt.title('Red Con 2 capas y 16 neuronas')\n",
        "plt.xlabel('Epoch')\n",
        "plt.ylabel('Loss')\n",
        "plt.show()"
      ],
      "metadata": {
        "colab": {
          "base_uri": "https://localhost:8080/",
          "height": 472
        },
        "id": "weeaarHLPP3D",
        "outputId": "33138455-66e9-440a-d1c1-380587f1d040"
      },
      "execution_count": 172,
      "outputs": [
        {
          "output_type": "display_data",
          "data": {
            "text/plain": [
              "<Figure size 640x480 with 1 Axes>"
            ],
            "image/png": "[encoded data removed]"
          },
          "metadata": {}
        }
      ]
    },
    {
      "cell_type": "code",
      "source": [
        "tf.random.set_seed(1234)  # applied to achieve reproducible results\n",
        "model2 = Sequential(\n",
        "    [\n",
        "        tf.keras.Input(shape=(x_train.shape[1],)),\n",
        "        Dense(32, activation='relu', name = 'layer1'),\n",
        "        Dense(16,activation='relu', name = 'layer2'),\n",
        "        Dense(10, activation='softmax')\n",
        "     ]\n",
        ")\n",
        "model2.compile(optimizer='sgd', loss = tf.keras.losses.BinaryCrossentropy(), metrics=['accuracy'])\n",
        "\n",
        "history2 = model2.fit(x_train, y_train, epochs = 10)"
      ],
      "metadata": {
        "colab": {
          "base_uri": "https://localhost:8080/"
        },
        "id": "NgG9QkOVPlzY",
        "outputId": "cb654e8e-eee9-4575-b689-43b694e8cb88"
      },
      "execution_count": 175,
      "outputs": [
        {
          "output_type": "stream",
          "name": "stdout",
          "text": [
            "Epoch 1/10\n",
            "1182/1182 [==============================] - 15s 5ms/step - loss: 0.3704 - accuracy: 0.2440\n",
            "Epoch 2/10\n",
            "1182/1182 [==============================] - 5s 4ms/step - loss: 0.2719 - accuracy: 0.4979\n",
            "Epoch 3/10\n",
            "1182/1182 [==============================] - 5s 4ms/step - loss: 0.2221 - accuracy: 0.6706\n",
            "Epoch 4/10\n",
            "1182/1182 [==============================] - 6s 5ms/step - loss: 0.1837 - accuracy: 0.7568\n",
            "Epoch 5/10\n",
            "1182/1182 [==============================] - 5s 4ms/step - loss: 0.1558 - accuracy: 0.7969\n",
            "Epoch 6/10\n",
            "1182/1182 [==============================] - 5s 4ms/step - loss: 0.1371 - accuracy: 0.8213\n",
            "Epoch 7/10\n",
            "1182/1182 [==============================] - 6s 5ms/step - loss: 0.1242 - accuracy: 0.8378\n",
            "Epoch 8/10\n",
            "1182/1182 [==============================] - 5s 4ms/step - loss: 0.1144 - accuracy: 0.8502\n",
            "Epoch 9/10\n",
            "1182/1182 [==============================] - 5s 4ms/step - loss: 0.1065 - accuracy: 0.8587\n",
            "Epoch 10/10\n",
            "1182/1182 [==============================] - 6s 5ms/step - loss: 0.1002 - accuracy: 0.8669\n"
          ]
        }
      ]
    },
    {
      "cell_type": "code",
      "source": [
        "cost, ac = model2.evaluate(x_test, y_test)\n",
        "\n",
        "print('Cost: {}, Accuracy: {}'.format(cost, ac))"
      ],
      "metadata": {
        "colab": {
          "base_uri": "https://localhost:8080/"
        },
        "id": "a1b7JNZ4UTBd",
        "outputId": "e94880d0-50e5-461c-fdb1-b5ee669277e3"
      },
      "execution_count": 189,
      "outputs": [
        {
          "output_type": "stream",
          "name": "stdout",
          "text": [
            "132/132 [==============================] - 1s 3ms/step - loss: 0.0977 - accuracy: 0.8657\n",
            "Cost: 0.09765267372131348, Accuracy: 0.8657143115997314\n"
          ]
        }
      ]
    },
    {
      "cell_type": "code",
      "source": [
        "plt.plot(history2.history['loss'], color = 'black')\n",
        "plt.title('Red Con 2 capas, 32 y 16 neuronas')\n",
        "plt.xlabel('Epoch')\n",
        "plt.ylabel('Loss')\n",
        "plt.show()"
      ],
      "metadata": {
        "colab": {
          "base_uri": "https://localhost:8080/",
          "height": 472
        },
        "id": "0vjhesl-QjAe",
        "outputId": "1f2fb2de-c267-4484-8b43-fb59ee0ab85b"
      },
      "execution_count": 182,
      "outputs": [
        {
          "output_type": "display_data",
          "data": {
            "text/plain": [
              "<Figure size 640x480 with 1 Axes>"
            ],
            "image/png": "[encoded data removed]"
          },
          "metadata": {}
        }
      ]
    },
    {
      "cell_type": "code",
      "source": [
        "tf.random.set_seed(1234)  # applied to achieve reproducible results\n",
        "model3 = Sequential(\n",
        "    [\n",
        "        tf.keras.Input(shape=(x_train.shape[1],)),\n",
        "        Dense(32, activation='relu', name = 'layer1'),\n",
        "        Dense(32, activation='relu', name = 'layer2'),\n",
        "        Dense(32, activation='relu', name = 'layer3'),\n",
        "        Dense(10, activation='softmax')\n",
        "     ]\n",
        ")\n",
        "model3.compile(optimizer='sgd', loss = tf.keras.losses.BinaryCrossentropy(), metrics=['accuracy'])\n",
        "\n",
        "history3 = model3.fit(x_train, y_train, epochs = 10)"
      ],
      "metadata": {
        "colab": {
          "base_uri": "https://localhost:8080/"
        },
        "id": "RWr-gMgNSB3Y",
        "outputId": "f9c2cbc5-c139-4080-8d5d-32165439059b"
      },
      "execution_count": 191,
      "outputs": [
        {
          "output_type": "stream",
          "name": "stdout",
          "text": [
            "Epoch 1/10\n",
            "1182/1182 [==============================] - 6s 4ms/step - loss: 0.3552 - accuracy: 0.2359\n",
            "Epoch 2/10\n",
            "1182/1182 [==============================] - 6s 5ms/step - loss: 0.2722 - accuracy: 0.5001\n",
            "Epoch 3/10\n",
            "1182/1182 [==============================] - 5s 4ms/step - loss: 0.2187 - accuracy: 0.6393\n",
            "Epoch 4/10\n",
            "1182/1182 [==============================] - 5s 5ms/step - loss: 0.1766 - accuracy: 0.7196\n",
            "Epoch 5/10\n",
            "1182/1182 [==============================] - 6s 5ms/step - loss: 0.1485 - accuracy: 0.7718\n",
            "Epoch 6/10\n",
            "1182/1182 [==============================] - 5s 4ms/step - loss: 0.1297 - accuracy: 0.8067\n",
            "Epoch 7/10\n",
            "1182/1182 [==============================] - 5s 4ms/step - loss: 0.1156 - accuracy: 0.8310\n",
            "Epoch 8/10\n",
            "1182/1182 [==============================] - 7s 6ms/step - loss: 0.1043 - accuracy: 0.8496\n",
            "Epoch 9/10\n",
            "1182/1182 [==============================] - 5s 4ms/step - loss: 0.0955 - accuracy: 0.8631\n",
            "Epoch 10/10\n",
            "1182/1182 [==============================] - 7s 6ms/step - loss: 0.0885 - accuracy: 0.8742\n"
          ]
        }
      ]
    },
    {
      "cell_type": "code",
      "source": [
        "cost, ac = model3.evaluate(x_test, y_test)\n",
        "\n",
        "print('Cost: {}, Accuracy: {}'.format(cost, ac))"
      ],
      "metadata": {
        "colab": {
          "base_uri": "https://localhost:8080/"
        },
        "id": "ZjMqzm3DUV44",
        "outputId": "58739d0f-cfe9-4bea-c5e9-8efc84df89ab"
      },
      "execution_count": 192,
      "outputs": [
        {
          "output_type": "stream",
          "name": "stdout",
          "text": [
            "132/132 [==============================] - 0s 3ms/step - loss: 0.0869 - accuracy: 0.8752\n",
            "Cost: 0.08694296330213547, Accuracy: 0.8752381205558777\n"
          ]
        }
      ]
    },
    {
      "cell_type": "code",
      "source": [
        "plt.plot(history3.history['loss'], color = 'black')\n",
        "plt.title('Red Con 3 capas, 32 neuronas por capa')\n",
        "plt.xlabel('Epoch')\n",
        "plt.ylabel('Loss')\n",
        "plt.show()"
      ],
      "metadata": {
        "colab": {
          "base_uri": "https://localhost:8080/",
          "height": 472
        },
        "id": "g9ub7oczSNMt",
        "outputId": "57dce1f2-5a4a-464b-afc3-583b5210cb7e"
      },
      "execution_count": 181,
      "outputs": [
        {
          "output_type": "display_data",
          "data": {
            "text/plain": [
              "<Figure size 640x480 with 1 Axes>"
            ],
            "image/png": "[encoded data removed]"
          },
          "metadata": {}
        }
      ]
    },
    {
      "cell_type": "code",
      "source": [
        "tf.random.set_seed(1234)  # applied to achieve reproducible results\n",
        "model4 = Sequential(\n",
        "    [\n",
        "        tf.keras.Input(shape=(x_train.shape[1],)),\n",
        "        Dense(128, activation='relu', name = 'layer1'),\n",
        "        Dense(128, activation='relu', name = 'layer2'),\n",
        "        Dense(10, activation='softmax')\n",
        "     ]\n",
        ")\n",
        "model4.compile(optimizer='sgd', loss = tf.keras.losses.BinaryCrossentropy(), metrics=['accuracy'])\n",
        "\n",
        "history4 = model4.fit(x_train, y_train, epochs = 10)"
      ],
      "metadata": {
        "colab": {
          "base_uri": "https://localhost:8080/"
        },
        "id": "qAXvJ-c6S8h5",
        "outputId": "71876841-1e77-485e-ea05-1b8ac443eee8"
      },
      "execution_count": 184,
      "outputs": [
        {
          "output_type": "stream",
          "name": "stdout",
          "text": [
            "Epoch 1/10\n",
            "1182/1182 [==============================] - 6s 4ms/step - loss: 0.3320 - accuracy: 0.4362\n",
            "Epoch 2/10\n",
            "1182/1182 [==============================] - 6s 5ms/step - loss: 0.2274 - accuracy: 0.7209\n",
            "Epoch 3/10\n",
            "1182/1182 [==============================] - 5s 4ms/step - loss: 0.1685 - accuracy: 0.8010\n",
            "Epoch 4/10\n",
            "1182/1182 [==============================] - 5s 4ms/step - loss: 0.1367 - accuracy: 0.8357\n",
            "Epoch 5/10\n",
            "1182/1182 [==============================] - 6s 5ms/step - loss: 0.1179 - accuracy: 0.8549\n",
            "Epoch 6/10\n",
            "1182/1182 [==============================] - 5s 5ms/step - loss: 0.1053 - accuracy: 0.8684\n",
            "Epoch 7/10\n",
            "1182/1182 [==============================] - 5s 4ms/step - loss: 0.0963 - accuracy: 0.8767\n",
            "Epoch 8/10\n",
            "1182/1182 [==============================] - 7s 6ms/step - loss: 0.0894 - accuracy: 0.8828\n",
            "Epoch 9/10\n",
            "1182/1182 [==============================] - 5s 5ms/step - loss: 0.0840 - accuracy: 0.8890\n",
            "Epoch 10/10\n",
            "1182/1182 [==============================] - 5s 4ms/step - loss: 0.0796 - accuracy: 0.8934\n"
          ]
        }
      ]
    },
    {
      "cell_type": "code",
      "source": [
        "cost, ac = model4.evaluate(x_test, y_test)\n",
        "\n",
        "print('Cost: {}, Accuracy: {}'.format(cost, ac))"
      ],
      "metadata": {
        "colab": {
          "base_uri": "https://localhost:8080/"
        },
        "id": "9uuNEy73U4i8",
        "outputId": "76e5a5ed-3bbc-48e6-959a-d750c1c5c4a5"
      },
      "execution_count": 193,
      "outputs": [
        {
          "output_type": "stream",
          "name": "stdout",
          "text": [
            "132/132 [==============================] - 1s 5ms/step - loss: 0.0786 - accuracy: 0.8945\n",
            "Cost: 0.07861197739839554, Accuracy: 0.8945237994194031\n"
          ]
        }
      ]
    },
    {
      "cell_type": "code",
      "source": [
        "plt.plot(history4.history['loss'], color = 'black')\n",
        "plt.title('Red Con 2 capas, 128 neuronas por capa')\n",
        "plt.xlabel('Epoch')\n",
        "plt.ylabel('Loss')\n",
        "plt.show()"
      ],
      "metadata": {
        "colab": {
          "base_uri": "https://localhost:8080/",
          "height": 472
        },
        "id": "2TiAoRIUTILR",
        "outputId": "5edf33fb-9a3f-4cbe-dca8-5e566093c631"
      },
      "execution_count": 185,
      "outputs": [
        {
          "output_type": "display_data",
          "data": {
            "text/plain": [
              "<Figure size 640x480 with 1 Axes>"
            ],
            "image/png": "[encoded data removed]"
          },
          "metadata": {}
        }
      ]
    },
    {
      "cell_type": "markdown",
      "source": [
        "Observamos Claramente, que para tener un mejor accuracy tenemos que agregar más neurona. Pero no necesariamente más capas. Esto hace que con menos hiperparametros, podamos entrenar un buen modelo de clasificación."
      ],
      "metadata": {
        "id": "8GkYt0VPVE-s"
      }
    },
    {
      "cell_type": "code",
      "source": [],
      "metadata": {
        "id": "iCHiHZYYTg6K"
      },
      "execution_count": null,
      "outputs": []
    }
  ]
}