{
  "nbformat": 4,
  "nbformat_minor": 0,
  "metadata": {
    "colab": {
      "provenance": [],
      "gpuType": "T4",
      "include_colab_link": true
    },
    "kernelspec": {
      "name": "python3",
      "display_name": "Python 3"
    },
    "language_info": {
      "name": "python"
    },
    "widgets": {
      "application/vnd.jupyter.widget-state+json": {
        "3a976a5fd786421b813055d8fe3ada34": {
          "model_module": "@jupyter-widgets/controls",
          "model_name": "HBoxModel",
          "model_module_version": "1.5.0",
          "state": {
            "_dom_classes": [],
            "_model_module": "@jupyter-widgets/controls",
            "_model_module_version": "1.5.0",
            "_model_name": "HBoxModel",
            "_view_count": null,
            "_view_module": "@jupyter-widgets/controls",
            "_view_module_version": "1.5.0",
            "_view_name": "HBoxView",
            "box_style": "",
            "children": [
              "IPY_MODEL_755faad046ae4689ad6fa5b9ad1ddee4",
              "IPY_MODEL_e295f15cb51d4da29834165c21d962ea",
              "IPY_MODEL_b5ece55500f946068745d19c11a6f838"
            ],
            "layout": "IPY_MODEL_e10f7e1dcfb64838b4e8c41b8aea0ac5"
          }
        },
        "755faad046ae4689ad6fa5b9ad1ddee4": {
          "model_module": "@jupyter-widgets/controls",
          "model_name": "HTMLModel",
          "model_module_version": "1.5.0",
          "state": {
            "_dom_classes": [],
            "_model_module": "@jupyter-widgets/controls",
            "_model_module_version": "1.5.0",
            "_model_name": "HTMLModel",
            "_view_count": null,
            "_view_module": "@jupyter-widgets/controls",
            "_view_module_version": "1.5.0",
            "_view_name": "HTMLView",
            "description": "",
            "description_tooltip": null,
            "layout": "IPY_MODEL_e834b4e2bfd043ae8465cf54c612742f",
            "placeholder": "​",
            "style": "IPY_MODEL_3a70a7d2529b4c76b9cfcd336a2a9f55",
            "value": "100%"
          }
        },
        "e295f15cb51d4da29834165c21d962ea": {
          "model_module": "@jupyter-widgets/controls",
          "model_name": "FloatProgressModel",
          "model_module_version": "1.5.0",
          "state": {
            "_dom_classes": [],
            "_model_module": "@jupyter-widgets/controls",
            "_model_module_version": "1.5.0",
            "_model_name": "FloatProgressModel",
            "_view_count": null,
            "_view_module": "@jupyter-widgets/controls",
            "_view_module_version": "1.5.0",
            "_view_name": "ProgressView",
            "bar_style": "success",
            "description": "",
            "description_tooltip": null,
            "layout": "IPY_MODEL_6406f50b69204d6f876e2b42998b9692",
            "max": 10000,
            "min": 0,
            "orientation": "horizontal",
            "style": "IPY_MODEL_c34c34b9068e4f448fab32d2b040a3af",
            "value": 10000
          }
        },
        "b5ece55500f946068745d19c11a6f838": {
          "model_module": "@jupyter-widgets/controls",
          "model_name": "HTMLModel",
          "model_module_version": "1.5.0",
          "state": {
            "_dom_classes": [],
            "_model_module": "@jupyter-widgets/controls",
            "_model_module_version": "1.5.0",
            "_model_name": "HTMLModel",
            "_view_count": null,
            "_view_module": "@jupyter-widgets/controls",
            "_view_module_version": "1.5.0",
            "_view_name": "HTMLView",
            "description": "",
            "description_tooltip": null,
            "layout": "IPY_MODEL_4e101cd47cbd4dfcbc418a513913d10a",
            "placeholder": "​",
            "style": "IPY_MODEL_68e6cb7bcea7473799d268580bc27216",
            "value": " 10000/10000 [00:20&lt;00:00, 480.12it/s]"
          }
        },
        "e10f7e1dcfb64838b4e8c41b8aea0ac5": {
          "model_module": "@jupyter-widgets/base",
          "model_name": "LayoutModel",
          "model_module_version": "1.2.0",
          "state": {
            "_model_module": "@jupyter-widgets/base",
            "_model_module_version": "1.2.0",
            "_model_name": "LayoutModel",
            "_view_count": null,
            "_view_module": "@jupyter-widgets/base",
            "_view_module_version": "1.2.0",
            "_view_name": "LayoutView",
            "align_content": null,
            "align_items": null,
            "align_self": null,
            "border": null,
            "bottom": null,
            "display": null,
            "flex": null,
            "flex_flow": null,
            "grid_area": null,
            "grid_auto_columns": null,
            "grid_auto_flow": null,
            "grid_auto_rows": null,
            "grid_column": null,
            "grid_gap": null,
            "grid_row": null,
            "grid_template_areas": null,
            "grid_template_columns": null,
            "grid_template_rows": null,
            "height": null,
            "justify_content": null,
            "justify_items": null,
            "left": null,
            "margin": null,
            "max_height": null,
            "max_width": null,
            "min_height": null,
            "min_width": null,
            "object_fit": null,
            "object_position": null,
            "order": null,
            "overflow": null,
            "overflow_x": null,
            "overflow_y": null,
            "padding": null,
            "right": null,
            "top": null,
            "visibility": null,
            "width": null
          }
        },
        "e834b4e2bfd043ae8465cf54c612742f": {
          "model_module": "@jupyter-widgets/base",
          "model_name": "LayoutModel",
          "model_module_version": "1.2.0",
          "state": {
            "_model_module": "@jupyter-widgets/base",
            "_model_module_version": "1.2.0",
            "_model_name": "LayoutModel",
            "_view_count": null,
            "_view_module": "@jupyter-widgets/base",
            "_view_module_version": "1.2.0",
            "_view_name": "LayoutView",
            "align_content": null,
            "align_items": null,
            "align_self": null,
            "border": null,
            "bottom": null,
            "display": null,
            "flex": null,
            "flex_flow": null,
            "grid_area": null,
            "grid_auto_columns": null,
            "grid_auto_flow": null,
            "grid_auto_rows": null,
            "grid_column": null,
            "grid_gap": null,
            "grid_row": null,
            "grid_template_areas": null,
            "grid_template_columns": null,
            "grid_template_rows": null,
            "height": null,
            "justify_content": null,
            "justify_items": null,
            "left": null,
            "margin": null,
            "max_height": null,
            "max_width": null,
            "min_height": null,
            "min_width": null,
            "object_fit": null,
            "object_position": null,
            "order": null,
            "overflow": null,
            "overflow_x": null,
            "overflow_y": null,
            "padding": null,
            "right": null,
            "top": null,
            "visibility": null,
            "width": null
          }
        },
        "3a70a7d2529b4c76b9cfcd336a2a9f55": {
          "model_module": "@jupyter-widgets/controls",
          "model_name": "DescriptionStyleModel",
          "model_module_version": "1.5.0",
          "state": {
            "_model_module": "@jupyter-widgets/controls",
            "_model_module_version": "1.5.0",
            "_model_name": "DescriptionStyleModel",
            "_view_count": null,
            "_view_module": "@jupyter-widgets/base",
            "_view_module_version": "1.2.0",
            "_view_name": "StyleView",
            "description_width": ""
          }
        },
        "6406f50b69204d6f876e2b42998b9692": {
          "model_module": "@jupyter-widgets/base",
          "model_name": "LayoutModel",
          "model_module_version": "1.2.0",
          "state": {
            "_model_module": "@jupyter-widgets/base",
            "_model_module_version": "1.2.0",
            "_model_name": "LayoutModel",
            "_view_count": null,
            "_view_module": "@jupyter-widgets/base",
            "_view_module_version": "1.2.0",
            "_view_name": "LayoutView",
            "align_content": null,
            "align_items": null,
            "align_self": null,
            "border": null,
            "bottom": null,
            "display": null,
            "flex": null,
            "flex_flow": null,
            "grid_area": null,
            "grid_auto_columns": null,
            "grid_auto_flow": null,
            "grid_auto_rows": null,
            "grid_column": null,
            "grid_gap": null,
            "grid_row": null,
            "grid_template_areas": null,
            "grid_template_columns": null,
            "grid_template_rows": null,
            "height": null,
            "justify_content": null,
            "justify_items": null,
            "left": null,
            "margin": null,
            "max_height": null,
            "max_width": null,
            "min_height": null,
            "min_width": null,
            "object_fit": null,
            "object_position": null,
            "order": null,
            "overflow": null,
            "overflow_x": null,
            "overflow_y": null,
            "padding": null,
            "right": null,
            "top": null,
            "visibility": null,
            "width": null
          }
        },
        "c34c34b9068e4f448fab32d2b040a3af": {
          "model_module": "@jupyter-widgets/controls",
          "model_name": "ProgressStyleModel",
          "model_module_version": "1.5.0",
          "state": {
            "_model_module": "@jupyter-widgets/controls",
            "_model_module_version": "1.5.0",
            "_model_name": "ProgressStyleModel",
            "_view_count": null,
            "_view_module": "@jupyter-widgets/base",
            "_view_module_version": "1.2.0",
            "_view_name": "StyleView",
            "bar_color": null,
            "description_width": ""
          }
        },
        "4e101cd47cbd4dfcbc418a513913d10a": {
          "model_module": "@jupyter-widgets/base",
          "model_name": "LayoutModel",
          "model_module_version": "1.2.0",
          "state": {
            "_model_module": "@jupyter-widgets/base",
            "_model_module_version": "1.2.0",
            "_model_name": "LayoutModel",
            "_view_count": null,
            "_view_module": "@jupyter-widgets/base",
            "_view_module_version": "1.2.0",
            "_view_name": "LayoutView",
            "align_content": null,
            "align_items": null,
            "align_self": null,
            "border": null,
            "bottom": null,
            "display": null,
            "flex": null,
            "flex_flow": null,
            "grid_area": null,
            "grid_auto_columns": null,
            "grid_auto_flow": null,
            "grid_auto_rows": null,
            "grid_column": null,
            "grid_gap": null,
            "grid_row": null,
            "grid_template_areas": null,
            "grid_template_columns": null,
            "grid_template_rows": null,
            "height": null,
            "justify_content": null,
            "justify_items": null,
            "left": null,
            "margin": null,
            "max_height": null,
            "max_width": null,
            "min_height": null,
            "min_width": null,
            "object_fit": null,
            "object_position": null,
            "order": null,
            "overflow": null,
            "overflow_x": null,
            "overflow_y": null,
            "padding": null,
            "right": null,
            "top": null,
            "visibility": null,
            "width": null
          }
        },
        "68e6cb7bcea7473799d268580bc27216": {
          "model_module": "@jupyter-widgets/controls",
          "model_name": "DescriptionStyleModel",
          "model_module_version": "1.5.0",
          "state": {
            "_model_module": "@jupyter-widgets/controls",
            "_model_module_version": "1.5.0",
            "_model_name": "DescriptionStyleModel",
            "_view_count": null,
            "_view_module": "@jupyter-widgets/base",
            "_view_module_version": "1.2.0",
            "_view_name": "StyleView",
            "description_width": ""
          }
        }
      }
    }
  },
  "cells": [
    {
      "cell_type": "markdown",
      "metadata": {
        "id": "view-in-github",
        "colab_type": "text"
      },
      "source": [
        "<a href=\"https://colab.research.google.com/github/DCI-alxogm/ml2023-PotterSR/blob/main/Nov17-18/NeuralNetwork.ipynb\" target=\"_parent\"><img src=\"https://colab.research.google.com/assets/colab-badge.svg\" alt=\"Open In Colab\"/></a>"
      ]
    },
    {
      "cell_type": "code",
      "execution_count": 1,
      "metadata": {
        "id": "mwu6BNQSLE-Y"
      },
      "outputs": [],
      "source": [
        "import glob\n",
        "import numpy as np\n",
        "import copy\n",
        "import matplotlib.pyplot as plt\n",
        "import h5py\n",
        "import scipy\n",
        "from PIL import Image\n",
        "from scipy import ndimage\n",
        "\n",
        "%matplotlib inline"
      ]
    },
    {
      "cell_type": "code",
      "source": [
        "from google.colab import drive\n",
        "drive.mount('/content/drive')"
      ],
      "metadata": {
        "colab": {
          "base_uri": "https://localhost:8080/"
        },
        "id": "R66ecBcvGPWQ",
        "outputId": "1aa45d82-7459-46e9-afc1-9d6f01839c68"
      },
      "execution_count": 2,
      "outputs": [
        {
          "output_type": "stream",
          "name": "stdout",
          "text": [
            "Mounted at /content/drive\n"
          ]
        }
      ]
    },
    {
      "cell_type": "markdown",
      "source": [
        "Cargamos los datos que vamos a trabajar."
      ],
      "metadata": {
        "id": "8x0MULc5TteW"
      }
    },
    {
      "cell_type": "code",
      "source": [
        "#Los datos corresponden a un subset del dataset cats vs dogs de https://www.kaggle.com/c/dogs-vs-cats\n",
        "files1=glob.glob('/content/drive/MyDrive/Data/CATS_DOGS/*')"
      ],
      "metadata": {
        "id": "pKNUwdrHL1HZ"
      },
      "execution_count": 3,
      "outputs": []
    },
    {
      "cell_type": "code",
      "source": [
        "len(files1)"
      ],
      "metadata": {
        "colab": {
          "base_uri": "https://localhost:8080/"
        },
        "id": "8srYji0kUSfN",
        "outputId": "56af1447-bc15-4870-f0fe-37bfb5b9a6c7"
      },
      "execution_count": 4,
      "outputs": [
        {
          "output_type": "execute_result",
          "data": {
            "text/plain": [
              "1787"
            ]
          },
          "metadata": {},
          "execution_count": 4
        }
      ]
    },
    {
      "cell_type": "code",
      "source": [
        "import random\n",
        "\n",
        "files = random.sample(files1, len(files1))"
      ],
      "metadata": {
        "id": "wj_4vKcfyZc9"
      },
      "execution_count": 5,
      "outputs": []
    },
    {
      "cell_type": "code",
      "source": [
        "#numero de pixeles para nuestras imágenes.\n",
        "num_px=64"
      ],
      "metadata": {
        "id": "1eGEJ3jVL49a"
      },
      "execution_count": 14,
      "outputs": []
    },
    {
      "cell_type": "markdown",
      "source": [
        "Veamos algunas de las imagenes"
      ],
      "metadata": {
        "id": "feEz9FsvP_u5"
      }
    },
    {
      "cell_type": "markdown",
      "source": [
        "Preparamos el dataset de entrenamiento."
      ],
      "metadata": {
        "id": "f8WXRwMML-7s"
      }
    },
    {
      "cell_type": "code",
      "source": [
        "train_x=[]\n",
        "train_y=[]\n",
        "for file in files[:600]:\n",
        "    img=Image.open(file)\n",
        "    img=img.resize((num_px,num_px))\n",
        "    data=np.asarray(img)\n",
        "    train_x.append(data)\n",
        "    img.close()\n",
        "    if 'dog' in file:\n",
        "        train_y.append(1)\n",
        "    if 'cat' in file:\n",
        "        train_y.append(0)\n",
        "train_y=np.asarray(train_y)\n",
        "train_x=np.asarray(train_x)"
      ],
      "metadata": {
        "id": "lV-d7cPfL2Vf"
      },
      "execution_count": 15,
      "outputs": []
    },
    {
      "cell_type": "code",
      "source": [
        "plt.imshow(train_x[0])\n"
      ],
      "metadata": {
        "colab": {
          "base_uri": "https://localhost:8080/",
          "height": 451
        },
        "id": "QJdKqlorQUpa",
        "outputId": "5c2985d9-933b-4e77-9bcb-629718458bb4"
      },
      "execution_count": 16,
      "outputs": [
        {
          "output_type": "execute_result",
          "data": {
            "text/plain": [
              "<matplotlib.image.AxesImage at 0x79e747b17910>"
            ]
          },
          "metadata": {},
          "execution_count": 16
        },
        {
          "output_type": "display_data",
          "data": {
            "text/plain": [
              "<Figure size 640x480 with 1 Axes>"
            ],
            "image/png": "[encoded data removed]"
          },
          "metadata": {}
        }
      ]
    },
    {
      "cell_type": "markdown",
      "source": [
        "Preparamos el dataset de prueba"
      ],
      "metadata": {
        "id": "5Ac-PMrAMHJy"
      }
    },
    {
      "cell_type": "code",
      "source": [
        "test_x=[]\n",
        "test_y=[]\n",
        "for file in files[600:]:\n",
        "    #print(file)\n",
        "    img=Image.open(file)\n",
        "    img=img.resize((num_px,num_px))\n",
        "    data=np.asarray(img)\n",
        "    test_x.append(data)\n",
        "    img.close()\n",
        "    if 'dog' in file:\n",
        "        test_y.append(1)\n",
        "    if 'cat' in file:\n",
        "        test_y.append(0)\n",
        "test_y=np.asarray(test_y)\n",
        "test_x=np.asarray(test_x)"
      ],
      "metadata": {
        "id": "IEtmschUL8kK"
      },
      "execution_count": 17,
      "outputs": []
    },
    {
      "cell_type": "code",
      "source": [
        "plt.imshow(test_x[0])"
      ],
      "metadata": {
        "colab": {
          "base_uri": "https://localhost:8080/",
          "height": 451
        },
        "id": "l9bh3jcTM4ui",
        "outputId": "197863eb-b32b-48b4-c82d-70791915c233"
      },
      "execution_count": 18,
      "outputs": [
        {
          "output_type": "execute_result",
          "data": {
            "text/plain": [
              "<matplotlib.image.AxesImage at 0x79e742a01030>"
            ]
          },
          "metadata": {},
          "execution_count": 18
        },
        {
          "output_type": "display_data",
          "data": {
            "text/plain": [
              "<Figure size 640x480 with 1 Axes>"
            ],
            "image/png": "[encoded data removed]"
          },
          "metadata": {}
        }
      ]
    },
    {
      "cell_type": "markdown",
      "source": [
        "Hacemos una transformación de los arreglos que contienen las imagenes para que sean arreglos de una dimensión."
      ],
      "metadata": {
        "id": "JTrOe-91RjgN"
      }
    },
    {
      "cell_type": "code",
      "source": [
        "train_x_flatten = train_x.reshape(train_x.shape[0], -1).T\n",
        "\n",
        "test_x_flatten = test_x.reshape(test_x.shape[0], -1).T\n",
        "\n",
        "train_set_y=train_y.reshape((1,train_y.shape[0]))\n",
        "test_set_y=test_y.reshape((1,test_y.shape[0]))"
      ],
      "metadata": {
        "id": "vPiJd5HVMIWF"
      },
      "execution_count": 24,
      "outputs": []
    },
    {
      "cell_type": "markdown",
      "source": [
        "Normalizamos las imágenes"
      ],
      "metadata": {
        "id": "XnFBW_i3RwVy"
      }
    },
    {
      "cell_type": "code",
      "source": [
        "train_set_x= train_x_flatten/255\n",
        "test_set_x= test_x_flatten/255"
      ],
      "metadata": {
        "id": "LOEUc9g1Rt2v"
      },
      "execution_count": 20,
      "outputs": []
    },
    {
      "cell_type": "code",
      "source": [
        "train_set_x.shape"
      ],
      "metadata": {
        "colab": {
          "base_uri": "https://localhost:8080/"
        },
        "id": "DXOLDqtjM8Zy",
        "outputId": "a0d5d59e-ded3-4dce-ac64-351a1d4813ee"
      },
      "execution_count": 25,
      "outputs": [
        {
          "output_type": "execute_result",
          "data": {
            "text/plain": [
              "(12288, 600)"
            ]
          },
          "metadata": {},
          "execution_count": 25
        }
      ]
    },
    {
      "cell_type": "markdown",
      "source": [
        "Ya esta listo nuestro set de datos para poder trabajar con el."
      ],
      "metadata": {
        "id": "aNl0jG5KR5P5"
      }
    },
    {
      "cell_type": "markdown",
      "source": [
        "Tomando como base el código anterior del perceptrón, creamos varias funciones que simulen las capas de la Neurona."
      ],
      "metadata": {
        "id": "fdYWjopVt3o5"
      }
    },
    {
      "cell_type": "code",
      "source": [
        "def sigmoid(z):\n",
        "  sig = 1/(np.exp(-z)+1)\n",
        "\n",
        "  return sig\n",
        "\n",
        "def cost_log(y, y_hat):\n",
        "  y = np.squeeze(y)\n",
        "  cost = -1/len(y)*(np.sum(y*np.log(y_hat) + (1-y)*np.log(1-y_hat)))\n",
        "\n",
        "  return cost\n",
        "\n",
        "def hidden_layer(x_input):\n",
        "\n",
        "  #First Neuron:\n",
        "  w1 = np.zeros(x_input.shape[0])\n",
        "  b1 = 0\n",
        "  h1 = sigmoid(w1@x_input + b1)\n",
        "\n",
        "  #Second Nueron:\n",
        "  w2 = np.zeros(x_input.shape[0])\n",
        "  b2 = 0\n",
        "  h2 = sigmoid(w2@x_input + b2)\n",
        "\n",
        "  #Outputs\n",
        "  out = {'h1':h1, 'h2':h2}\n",
        "  return out\n",
        "\n",
        "def final_layer(h_input):\n",
        "  w3 = np.zeros(h_input.shape[0])\n",
        "  b3 = 0\n",
        "  h3 = sigmoid(w3@h_input + b3)\n",
        "\n",
        "\n",
        "  return {'h3':h3}"
      ],
      "metadata": {
        "id": "t2b5td_Y39bS"
      },
      "execution_count": 32,
      "outputs": []
    },
    {
      "cell_type": "markdown",
      "source": [
        "Esto puede ser traducido fácilmente a programación orientada a objetos"
      ],
      "metadata": {
        "id": "7HLAHQnGuDUy"
      }
    },
    {
      "cell_type": "code",
      "source": [
        "class NeuralNetwork:\n",
        "    def __init__(self, input_data):\n",
        "        self.input_data = input_data\n",
        "        #Initizalize all weights and bias in 0.\n",
        "        self.w1 = np.zeros(self.input_data.shape[0])\n",
        "        self.b1 = 0\n",
        "        self.w2 = np.zeros(self.input_data.shape[0])\n",
        "        self.b2 = 0\n",
        "        self.w3 = np.zeros(2)\n",
        "        self.b3 = 0\n",
        "\n",
        "    def sigmoid(self, z):\n",
        "        return 1 / (np.exp(-z) + 1)\n",
        "\n",
        "    def cost_log(self, y, y_hat):\n",
        "        y = np.squeeze(y)\n",
        "        cost = -1 / len(y) * (np.sum(y * np.log(y_hat) + (1 - y) * np.log(1 - y_hat)))\n",
        "        return cost\n",
        "\n",
        "    def hidden_layer(self, x_input):\n",
        "        # First Neuron:\n",
        "        h1 = self.sigmoid(self.w1 @ x_input + self.b1)\n",
        "\n",
        "        # Second Neuron:\n",
        "        h2 = self.sigmoid(self.w2 @ x_input + self.b2)\n",
        "\n",
        "        return {'h1': h1, 'h2': h2}\n",
        "\n",
        "    def final_layer(self, h_input):\n",
        "        h3 = self.sigmoid(self.w3 @ h_input + self.b3)\n",
        "        return {'h3': h3}"
      ],
      "metadata": {
        "id": "2tt21ZEZrR94"
      },
      "execution_count": 45,
      "outputs": []
    },
    {
      "cell_type": "code",
      "source": [
        "nn = NeuralNetwork(train_set_x)\n",
        "hidden_output = nn.hidden_layer(train_set_x)\n",
        "final_input = np.array(list(hidden_output.values()))\n",
        "final_output = nn.final_layer(final_input)\n",
        "#We get forward propagation of the Neural Network.\n",
        "print('Final Output of the NN: {}'.format(list(final_output.values())))"
      ],
      "metadata": {
        "colab": {
          "base_uri": "https://localhost:8080/"
        },
        "id": "-KZstiZ1sB3N",
        "outputId": "3be0d18c-c6b9-45c9-d94a-e3cdda88d777"
      },
      "execution_count": 58,
      "outputs": [
        {
          "output_type": "stream",
          "name": "stdout",
          "text": [
            "Final Output of the NN: [array([0.5, 0.5, 0.5, 0.5, 0.5, 0.5, 0.5, 0.5, 0.5, 0.5, 0.5, 0.5, 0.5,\n",
            "       0.5, 0.5, 0.5, 0.5, 0.5, 0.5, 0.5, 0.5, 0.5, 0.5, 0.5, 0.5, 0.5,\n",
            "       0.5, 0.5, 0.5, 0.5, 0.5, 0.5, 0.5, 0.5, 0.5, 0.5, 0.5, 0.5, 0.5,\n",
            "       0.5, 0.5, 0.5, 0.5, 0.5, 0.5, 0.5, 0.5, 0.5, 0.5, 0.5, 0.5, 0.5,\n",
            "       0.5, 0.5, 0.5, 0.5, 0.5, 0.5, 0.5, 0.5, 0.5, 0.5, 0.5, 0.5, 0.5,\n",
            "       0.5, 0.5, 0.5, 0.5, 0.5, 0.5, 0.5, 0.5, 0.5, 0.5, 0.5, 0.5, 0.5,\n",
            "       0.5, 0.5, 0.5, 0.5, 0.5, 0.5, 0.5, 0.5, 0.5, 0.5, 0.5, 0.5, 0.5,\n",
            "       0.5, 0.5, 0.5, 0.5, 0.5, 0.5, 0.5, 0.5, 0.5, 0.5, 0.5, 0.5, 0.5,\n",
            "       0.5, 0.5, 0.5, 0.5, 0.5, 0.5, 0.5, 0.5, 0.5, 0.5, 0.5, 0.5, 0.5,\n",
            "       0.5, 0.5, 0.5, 0.5, 0.5, 0.5, 0.5, 0.5, 0.5, 0.5, 0.5, 0.5, 0.5,\n",
            "       0.5, 0.5, 0.5, 0.5, 0.5, 0.5, 0.5, 0.5, 0.5, 0.5, 0.5, 0.5, 0.5,\n",
            "       0.5, 0.5, 0.5, 0.5, 0.5, 0.5, 0.5, 0.5, 0.5, 0.5, 0.5, 0.5, 0.5,\n",
            "       0.5, 0.5, 0.5, 0.5, 0.5, 0.5, 0.5, 0.5, 0.5, 0.5, 0.5, 0.5, 0.5,\n",
            "       0.5, 0.5, 0.5, 0.5, 0.5, 0.5, 0.5, 0.5, 0.5, 0.5, 0.5, 0.5, 0.5,\n",
            "       0.5, 0.5, 0.5, 0.5, 0.5, 0.5, 0.5, 0.5, 0.5, 0.5, 0.5, 0.5, 0.5,\n",
            "       0.5, 0.5, 0.5, 0.5, 0.5, 0.5, 0.5, 0.5, 0.5, 0.5, 0.5, 0.5, 0.5,\n",
            "       0.5, 0.5, 0.5, 0.5, 0.5, 0.5, 0.5, 0.5, 0.5, 0.5, 0.5, 0.5, 0.5,\n",
            "       0.5, 0.5, 0.5, 0.5, 0.5, 0.5, 0.5, 0.5, 0.5, 0.5, 0.5, 0.5, 0.5,\n",
            "       0.5, 0.5, 0.5, 0.5, 0.5, 0.5, 0.5, 0.5, 0.5, 0.5, 0.5, 0.5, 0.5,\n",
            "       0.5, 0.5, 0.5, 0.5, 0.5, 0.5, 0.5, 0.5, 0.5, 0.5, 0.5, 0.5, 0.5,\n",
            "       0.5, 0.5, 0.5, 0.5, 0.5, 0.5, 0.5, 0.5, 0.5, 0.5, 0.5, 0.5, 0.5,\n",
            "       0.5, 0.5, 0.5, 0.5, 0.5, 0.5, 0.5, 0.5, 0.5, 0.5, 0.5, 0.5, 0.5,\n",
            "       0.5, 0.5, 0.5, 0.5, 0.5, 0.5, 0.5, 0.5, 0.5, 0.5, 0.5, 0.5, 0.5,\n",
            "       0.5, 0.5, 0.5, 0.5, 0.5, 0.5, 0.5, 0.5, 0.5, 0.5, 0.5, 0.5, 0.5,\n",
            "       0.5, 0.5, 0.5, 0.5, 0.5, 0.5, 0.5, 0.5, 0.5, 0.5, 0.5, 0.5, 0.5,\n",
            "       0.5, 0.5, 0.5, 0.5, 0.5, 0.5, 0.5, 0.5, 0.5, 0.5, 0.5, 0.5, 0.5,\n",
            "       0.5, 0.5, 0.5, 0.5, 0.5, 0.5, 0.5, 0.5, 0.5, 0.5, 0.5, 0.5, 0.5,\n",
            "       0.5, 0.5, 0.5, 0.5, 0.5, 0.5, 0.5, 0.5, 0.5, 0.5, 0.5, 0.5, 0.5,\n",
            "       0.5, 0.5, 0.5, 0.5, 0.5, 0.5, 0.5, 0.5, 0.5, 0.5, 0.5, 0.5, 0.5,\n",
            "       0.5, 0.5, 0.5, 0.5, 0.5, 0.5, 0.5, 0.5, 0.5, 0.5, 0.5, 0.5, 0.5,\n",
            "       0.5, 0.5, 0.5, 0.5, 0.5, 0.5, 0.5, 0.5, 0.5, 0.5, 0.5, 0.5, 0.5,\n",
            "       0.5, 0.5, 0.5, 0.5, 0.5, 0.5, 0.5, 0.5, 0.5, 0.5, 0.5, 0.5, 0.5,\n",
            "       0.5, 0.5, 0.5, 0.5, 0.5, 0.5, 0.5, 0.5, 0.5, 0.5, 0.5, 0.5, 0.5,\n",
            "       0.5, 0.5, 0.5, 0.5, 0.5, 0.5, 0.5, 0.5, 0.5, 0.5, 0.5, 0.5, 0.5,\n",
            "       0.5, 0.5, 0.5, 0.5, 0.5, 0.5, 0.5, 0.5, 0.5, 0.5, 0.5, 0.5, 0.5,\n",
            "       0.5, 0.5, 0.5, 0.5, 0.5, 0.5, 0.5, 0.5, 0.5, 0.5, 0.5, 0.5, 0.5,\n",
            "       0.5, 0.5, 0.5, 0.5, 0.5, 0.5, 0.5, 0.5, 0.5, 0.5, 0.5, 0.5, 0.5,\n",
            "       0.5, 0.5, 0.5, 0.5, 0.5, 0.5, 0.5, 0.5, 0.5, 0.5, 0.5, 0.5, 0.5,\n",
            "       0.5, 0.5, 0.5, 0.5, 0.5, 0.5, 0.5, 0.5, 0.5, 0.5, 0.5, 0.5, 0.5,\n",
            "       0.5, 0.5, 0.5, 0.5, 0.5, 0.5, 0.5, 0.5, 0.5, 0.5, 0.5, 0.5, 0.5,\n",
            "       0.5, 0.5, 0.5, 0.5, 0.5, 0.5, 0.5, 0.5, 0.5, 0.5, 0.5, 0.5, 0.5,\n",
            "       0.5, 0.5, 0.5, 0.5, 0.5, 0.5, 0.5, 0.5, 0.5, 0.5, 0.5, 0.5, 0.5,\n",
            "       0.5, 0.5, 0.5, 0.5, 0.5, 0.5, 0.5, 0.5, 0.5, 0.5, 0.5, 0.5, 0.5,\n",
            "       0.5, 0.5, 0.5, 0.5, 0.5, 0.5, 0.5, 0.5, 0.5, 0.5, 0.5, 0.5, 0.5,\n",
            "       0.5, 0.5, 0.5, 0.5, 0.5, 0.5, 0.5, 0.5, 0.5, 0.5, 0.5, 0.5, 0.5,\n",
            "       0.5, 0.5, 0.5, 0.5, 0.5, 0.5, 0.5, 0.5, 0.5, 0.5, 0.5, 0.5, 0.5,\n",
            "       0.5, 0.5])]\n"
          ]
        }
      ]
    },
    {
      "cell_type": "code",
      "source": [
        "def gradient_descent(x_train, y_train, n_iter, stepsize=.1):\n",
        "\n",
        "  y_train = np.squeeze(y_train)\n",
        "\n",
        "  costs = []\n",
        "  w = np.zeros(x_train.shape[0])\n",
        "  b = 0\n",
        "\n",
        "  z = w@x_train + b\n",
        "  y_hat = sigmoid(z)\n",
        "\n",
        "  costs.append(cost_log(y_train, y_hat))\n",
        "\n",
        "  for i in range(n_iter):\n",
        "\n",
        "    #print((y_hat - np.squeeze(y_train)).shape, x_train.shape)\n",
        "    dw = 1/(x_train.shape[1])*x_train@(y_hat - y_train)\n",
        "    db = 1/(x_train.shape[1])*np.sum(y_hat - y_train)\n",
        "    #Algoritmo Descenso\n",
        "    w = w - stepsize*dw\n",
        "    b = b - stepsize*db\n",
        "\n",
        "    #print(w.shape)\n",
        "\n",
        "    z = w@x_train + b\n",
        "    y_hat = sigmoid(z)\n",
        "\n",
        "    #print(w.shape)\n",
        "    cost = cost_log(y_train, y_hat)\n",
        "    costs.append(cost)\n",
        "\n",
        "    #if (i%500 == 0):\n",
        "      #print('Stepsize: {} | Cost: {:}'.format(i, cost))\n",
        "\n",
        "\n",
        "  return costs, w, b\n",
        "\n",
        "\n",
        "def neuron(x_train, y_train, x_test=0, y_test=0):\n",
        "\n",
        "  pass"
      ],
      "metadata": {
        "id": "UjDgWGDyzMtO"
      },
      "execution_count": null,
      "outputs": []
    },
    {
      "cell_type": "code",
      "source": [
        "def sigmoid(z):\n",
        "  sig = 1/(np.exp(-z)+1)\n",
        "\n",
        "  return sig\n",
        "\n",
        "def cost_log(y, y_hat):\n",
        "  y = np.squeeze(y)\n",
        "  cost = -1/len(y)*(np.sum(y*np.log(y_hat) + (1-y)*np.log(1-y_hat)))\n",
        "\n",
        "  return cost\n",
        "\n",
        "z = w@train_set_x + b\n",
        "\n",
        "predictions = sigmoid(z)\n",
        "\n",
        "predictions[predictions > .5] = 1\n",
        "predictions[predictions < .5] = 0\n",
        "\n",
        "\n",
        "predictions = predictions[(predictions == np.squeeze(train_set_y))]\n",
        "\n",
        "print('Accuracy in the data_train: {} '.format(predictions.shape[0]/600*100))\n",
        "\n",
        "z = w@test_set_x + b\n",
        "\n",
        "predictions = sigmoid(z)\n",
        "\n",
        "predictions[predictions > .5] = 1\n",
        "predictions[predictions < .5] = 0\n",
        "\n",
        "predictions = predictions[(predictions == np.squeeze(test_set_y))]\n",
        "\n",
        "print('Accuracy in the test: {} '.format(predictions.shape[0]/(test_set_y.shape[1])*100))\n",
        "\n"
      ],
      "metadata": {
        "colab": {
          "base_uri": "https://localhost:8080/"
        },
        "id": "WrEOtJz8YUnT",
        "outputId": "37cd4f10-029b-45b8-e620-a41e64457652"
      },
      "execution_count": null,
      "outputs": [
        {
          "output_type": "stream",
          "name": "stdout",
          "text": [
            "Accuracy in the data_train: 56.166666666666664 \n",
            "Accuracy in the test: 98.3150800336984 \n"
          ]
        }
      ]
    },
    {
      "cell_type": "code",
      "source": [
        "test_set_y.shape"
      ],
      "metadata": {
        "id": "1-ZQux1hYfvF",
        "colab": {
          "base_uri": "https://localhost:8080/"
        },
        "outputId": "db2809c3-5510-4970-9a98-79a75788c298"
      },
      "execution_count": null,
      "outputs": [
        {
          "output_type": "execute_result",
          "data": {
            "text/plain": [
              "(1, 1187)"
            ]
          },
          "metadata": {},
          "execution_count": 29
        }
      ]
    },
    {
      "cell_type": "code",
      "source": [
        "import torch\n",
        "import torch.nn.functional as F\n",
        "from tqdm.notebook import tqdm\n",
        "\n",
        "def sigmoid(x):\n",
        "    return 1 / (1 + torch.exp(-x))\n",
        "\n",
        "def cost_log(y_true, y_pred):\n",
        "    epsilon = 1e-15\n",
        "    y_pred = torch.clamp(y_pred, epsilon, 1 - epsilon)\n",
        "    return -(y_true * torch.log(y_pred) + (1 - y_true) * torch.log(1 - y_pred)).mean()\n",
        "\n",
        "def gradient_descent(x_train, y_train, n_iter, stepsize=0.1):\n",
        "    x_train = torch.tensor(x_train, dtype=torch.float32)\n",
        "    y_train = torch.tensor(y_train, dtype=torch.float32)\n",
        "\n",
        "    # Move tensors to GPU if available\n",
        "    device = torch.device(\"cuda\" if torch.cuda.is_available() else \"cpu\")\n",
        "    x_train, y_train = x_train.to(device), y_train.to(device)\n",
        "\n",
        "    y_train = y_train.squeeze()\n",
        "\n",
        "    costs = []\n",
        "    w = torch.zeros(x_train.shape[0], device=device)\n",
        "    b = torch.tensor(0.0, device=device)\n",
        "\n",
        "    for i in tqdm(range(n_iter)):\n",
        "        z = torch.matmul(w, x_train) + b\n",
        "        y_hat = sigmoid(z)\n",
        "\n",
        "        dw = (1 / x_train.shape[1]) * torch.matmul(x_train, y_hat - y_train)\n",
        "        db = (1 / x_train.shape[1]) * torch.sum(y_hat - y_train)\n",
        "\n",
        "        w = w - stepsize * dw\n",
        "        b = b - stepsize * db\n",
        "\n",
        "        cost = cost_log(y_train, y_hat)\n",
        "        costs.append(cost.item())\n",
        "\n",
        "    return costs, w.cpu().numpy(), b.item()\n",
        "\n",
        "\n",
        "costos, w, b = gradient_descent(test_set_x, test_set_y, 10000, .01)"
      ],
      "metadata": {
        "colab": {
          "base_uri": "https://localhost:8080/",
          "height": 49,
          "referenced_widgets": [
            "3a976a5fd786421b813055d8fe3ada34",
            "755faad046ae4689ad6fa5b9ad1ddee4",
            "e295f15cb51d4da29834165c21d962ea",
            "b5ece55500f946068745d19c11a6f838",
            "e10f7e1dcfb64838b4e8c41b8aea0ac5",
            "e834b4e2bfd043ae8465cf54c612742f",
            "3a70a7d2529b4c76b9cfcd336a2a9f55",
            "6406f50b69204d6f876e2b42998b9692",
            "c34c34b9068e4f448fab32d2b040a3af",
            "4e101cd47cbd4dfcbc418a513913d10a",
            "68e6cb7bcea7473799d268580bc27216"
          ]
        },
        "id": "GIjVacyWEo7K",
        "outputId": "7214c103-4ff2-4341-f292-67834ec6bf34"
      },
      "execution_count": null,
      "outputs": [
        {
          "output_type": "display_data",
          "data": {
            "text/plain": [
              "  0%|          | 0/10000 [00:00<?, ?it/s]"
            ],
            "application/vnd.jupyter.widget-view+json": {
              "version_major": 2,
              "version_minor": 0,
              "model_id": "3a976a5fd786421b813055d8fe3ada34"
            }
          },
          "metadata": {}
        }
      ]
    },
    {
      "cell_type": "code",
      "source": [
        "len(costos)"
      ],
      "metadata": {
        "colab": {
          "base_uri": "https://localhost:8080/"
        },
        "id": "6tY676pyggS2",
        "outputId": "fe9174aa-34c4-40e8-d08d-7ae3912e0eb8"
      },
      "execution_count": null,
      "outputs": [
        {
          "output_type": "execute_result",
          "data": {
            "text/plain": [
              "10000"
            ]
          },
          "metadata": {},
          "execution_count": 28
        }
      ]
    },
    {
      "cell_type": "code",
      "source": [
        "plt.plot(costos)"
      ],
      "metadata": {
        "colab": {
          "base_uri": "https://localhost:8080/",
          "height": 447
        },
        "id": "qacAbp6DT8Db",
        "outputId": "3aa749c1-3bc4-4818-85b1-c5d256512909"
      },
      "execution_count": null,
      "outputs": [
        {
          "output_type": "execute_result",
          "data": {
            "text/plain": [
              "[<matplotlib.lines.Line2D at 0x7a7b1d475cf0>]"
            ]
          },
          "metadata": {},
          "execution_count": 29
        },
        {
          "output_type": "display_data",
          "data": {
            "text/plain": [
              "<Figure size 640x480 with 1 Axes>"
            ],
            "image/png": "[encoded data removed]"
          },
          "metadata": {}
        }
      ]
    },
    {
      "cell_type": "code",
      "source": [],
      "metadata": {
        "id": "WyQ9kGPEWMZ6"
      },
      "execution_count": null,
      "outputs": []
    }
  ]
}